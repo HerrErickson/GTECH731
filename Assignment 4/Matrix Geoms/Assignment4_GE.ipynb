{
 "cells": [
  {
   "cell_type": "markdown",
   "id": "4c765918",
   "metadata": {},
   "source": [
    "## GTECH731 - Assignment 4\n",
    "# Griztko Erickson\n"
   ]
  },
  {
   "cell_type": "code",
   "execution_count": 38,
   "id": "b60b4a88",
   "metadata": {},
   "outputs": [],
   "source": [
    "import math as mth\n",
    "import random"
   ]
  },
  {
   "cell_type": "code",
   "execution_count": 2,
   "id": "e9d07df2",
   "metadata": {},
   "outputs": [
    {
     "ename": "FileExistsError",
     "evalue": "[WinError 183] Cannot create a file when that file already exists: 'C:\\\\Users\\\\grizt\\\\Documents\\\\GTECH731\\\\Session 4\\\\Assignment 4\\\\Matrix Geoms'",
     "output_type": "error",
     "traceback": [
      "\u001b[1;31m---------------------------------------------------------------------------\u001b[0m",
      "\u001b[1;31mFileExistsError\u001b[0m                           Traceback (most recent call last)",
      "Cell \u001b[1;32mIn [2], line 5\u001b[0m\n\u001b[0;32m      3\u001b[0m parent_dir \u001b[38;5;241m=\u001b[39m \u001b[38;5;124mr\u001b[39m\u001b[38;5;124m\"\u001b[39m\u001b[38;5;124mC:\u001b[39m\u001b[38;5;124m\\\u001b[39m\u001b[38;5;124mUsers\u001b[39m\u001b[38;5;124m\\\u001b[39m\u001b[38;5;124mgrizt\u001b[39m\u001b[38;5;124m\\\u001b[39m\u001b[38;5;124mDocuments\u001b[39m\u001b[38;5;124m\\\u001b[39m\u001b[38;5;124mGTECH731\u001b[39m\u001b[38;5;124m\\\u001b[39m\u001b[38;5;124mSession 4\u001b[39m\u001b[38;5;124m\\\u001b[39m\u001b[38;5;124mAssignment 4\u001b[39m\u001b[38;5;124m\"\u001b[39m\n\u001b[0;32m      4\u001b[0m path \u001b[38;5;241m=\u001b[39m os\u001b[38;5;241m.\u001b[39mpath\u001b[38;5;241m.\u001b[39mjoin(parent_dir, directory)\n\u001b[1;32m----> 5\u001b[0m \u001b[43mos\u001b[49m\u001b[38;5;241;43m.\u001b[39;49m\u001b[43mmkdir\u001b[49m\u001b[43m(\u001b[49m\u001b[43mpath\u001b[49m\u001b[43m)\u001b[49m\n",
      "\u001b[1;31mFileExistsError\u001b[0m: [WinError 183] Cannot create a file when that file already exists: 'C:\\\\Users\\\\grizt\\\\Documents\\\\GTECH731\\\\Session 4\\\\Assignment 4\\\\Matrix Geoms'"
     ]
    }
   ],
   "source": [
    "import os\n",
    "directory = \"Matrix Geoms\"\n",
    "parent_dir = r\"C:\\Users\\grizt\\Documents\\GTECH731\\Session 4\\Assignment 4\"\n",
    "path = os.path.join(parent_dir, directory)\n",
    "os.mkdir(path)"
   ]
  },
  {
   "cell_type": "markdown",
   "id": "ea703b8f",
   "metadata": {},
   "source": [
    "Task 1: Creat class of Triangle"
   ]
  },
  {
   "cell_type": "code",
   "execution_count": 34,
   "id": "7dfa608e",
   "metadata": {},
   "outputs": [
    {
     "name": "stdout",
     "output_type": "stream",
     "text": [
      "My name is  Smith and my color is  OLIVE\n",
      "My area is  64\n"
     ]
    }
   ],
   "source": [
    "class Geom():\n",
    "    geomType = 'Generic Geometry Type'\n",
    " \n",
    "#constructing a class\n",
    "    def __init__(self): \n",
    "        self.name = random.choice(['Neo','Morpheus','Trinity','Shippeng','Smith',])\n",
    "        self.color = random.choice(['CHARTREUSE', 'OLIVE', 'EMERALD'])\n",
    "        \n",
    "#Properties for shapes to inheret \n",
    "    def print_name(self):\n",
    "        print('My name is ',self.name, 'and my color is ',self.color)\n",
    "\n",
    "    def makeString(self):\n",
    "        return f\"Name: {self.name}, Color: {self.color}, Area: {self.area()}\"\n",
    "    \n",
    "#Testing the creation of a circle subclass\n",
    "class Circle(Geom):\n",
    "    def __init__ (self,radius):\n",
    "        self.radius = radius\n",
    "        super().__init__() \n",
    "    def area(self):\n",
    "        return mth.pi * self.radius ** 2\n",
    "    \n",
    "#Testing the creation of a square subclass  \n",
    "class Square(Geom):\n",
    "    def __init__ (self,side):\n",
    "        self.side = side\n",
    "        super().__init__()\n",
    "    def area(self):\n",
    "        return self.side ** 2   \n",
    "side = 8 #This is where the instance of the square is created\n",
    "my_square = Square(side)\n",
    "my_square.print_name()\n",
    "print('My area is ',my_square.area()) \n",
    "\n",
    "             \n"
   ]
  },
  {
   "cell_type": "code",
   "execution_count": 35,
   "id": "9ac71e6f",
   "metadata": {},
   "outputs": [
    {
     "name": "stdout",
     "output_type": "stream",
     "text": [
      "My name is  Neo and my color is  OLIVE\n",
      "My Area is 18.0\n"
     ]
    }
   ],
   "source": [
    "#Creation of triangle subclass\n",
    "class Triangle(Geom):\n",
    "    def __init__ (self,height):\n",
    "        self.height = height\n",
    "        super().__init__()\n",
    "    def __init__ (self,base):\n",
    "        self.base = base\n",
    "        super().__init__()\n",
    "    def __init__ (self,side):\n",
    "        self.side = base * height\n",
    "        super().__init__()\n",
    "    def area(self):\n",
    "        return self.side * 0.5 \n",
    "base = 6 #Instance of a triangle\n",
    "height = 6\n",
    "my_triangle = Triangle(side)\n",
    "my_triangle.print_name()\n",
    "print('My Area is', my_triangle.area())"
   ]
  },
  {
   "cell_type": "code",
   "execution_count": null,
   "id": "69d9f200",
   "metadata": {},
   "outputs": [],
   "source": []
  }
 ],
 "metadata": {
  "kernelspec": {
   "display_name": "Python 3 (ipykernel)",
   "language": "python",
   "name": "python3"
  },
  "language_info": {
   "codemirror_mode": {
    "name": "ipython",
    "version": 3
   },
   "file_extension": ".py",
   "mimetype": "text/x-python",
   "name": "python",
   "nbconvert_exporter": "python",
   "pygments_lexer": "ipython3",
   "version": "3.8.13"
  }
 },
 "nbformat": 4,
 "nbformat_minor": 5
}
