{
 "cells": [
  {
   "cell_type": "markdown",
   "id": "2b5cef7a",
   "metadata": {},
   "source": [
    "## GTECH 731 - Lab 8\n",
    "## Griztko Erickson"
   ]
  },
  {
   "cell_type": "markdown",
   "id": "ba0a5d12",
   "metadata": {},
   "source": [
    "Importing Packages"
   ]
  },
  {
   "cell_type": "code",
   "execution_count": 1,
   "id": "a88cf881",
   "metadata": {},
   "outputs": [],
   "source": [
    "import pandas as pd\n",
    "import geopandas as gpd\n",
    "import json\n",
    "import io"
   ]
  },
  {
   "cell_type": "markdown",
   "id": "bf966c18",
   "metadata": {},
   "source": [
    "## Loading in and Sorting Data \n",
    "Task 3 of merging state names is done here, first, for organization"
   ]
  },
  {
   "cell_type": "markdown",
   "id": "312defb0",
   "metadata": {},
   "source": [
    "Loading in County Data. Help received from TangoYankee (https://github.com/TangoYankee) in overcoming data loading issues."
   ]
  },
  {
   "cell_type": "code",
   "execution_count": 41,
   "id": "5292e64a",
   "metadata": {},
   "outputs": [],
   "source": [
    "with io.open(r\"C:\\Users\\grizt\\Documents\\GTECH731\\Session 8\\gz_2010_us_050_00_20m.json\", encoding=\"latin-1\") as f:\n",
    "    data = json.load(f)\n",
    "\n",
    "with open(r\"C:\\Users\\grizt\\Documents\\GTECH731\\Session 8\\gz_2010_us_050_00_20m.json\", \"w\") as fp:\n",
    "    json.dump(data, fp)\n",
    "   \n",
    "US_Counties = gpd.read_file(r\"C:\\Users\\grizt\\Documents\\GTECH731\\Session 8\\gz_2010_us_050_00_20m.json\")\n"
   ]
  },
  {
   "cell_type": "markdown",
   "id": "3cc457e7",
   "metadata": {},
   "source": [
    "Loading in State Names "
   ]
  },
  {
   "cell_type": "code",
   "execution_count": 75,
   "id": "326a9fde",
   "metadata": {},
   "outputs": [],
   "source": [
    "with io.open(r\"C:\\Users\\grizt\\Documents\\GTECH731\\Session 8\\fipsToState.json\") as f:\n",
    "    fips_to_state = json.load(f)\n",
    "    \n",
    "with io.open(r\"C:\\Users\\grizt\\Documents\\GTECH731\\Session 8\\fipsToState.json\") as f:\n",
    "    state_code_to_fips = json.load(f)\n",
    "    \n",
    "States = pd.DataFrame({\"STATE\": fips_to_state.keys(), \"STATE_NAME\": fips_to_state.values(),})"
   ]
  },
  {
   "cell_type": "markdown",
   "id": "a81e9618",
   "metadata": {},
   "source": [
    "Merging State Names with County Data"
   ]
  },
  {
   "cell_type": "code",
   "execution_count": 76,
   "id": "0caee2d5",
   "metadata": {},
   "outputs": [
    {
     "data": {
      "text/html": [
       "<div>\n",
       "<style scoped>\n",
       "    .dataframe tbody tr th:only-of-type {\n",
       "        vertical-align: middle;\n",
       "    }\n",
       "\n",
       "    .dataframe tbody tr th {\n",
       "        vertical-align: top;\n",
       "    }\n",
       "\n",
       "    .dataframe thead th {\n",
       "        text-align: right;\n",
       "    }\n",
       "</style>\n",
       "<table border=\"1\" class=\"dataframe\">\n",
       "  <thead>\n",
       "    <tr style=\"text-align: right;\">\n",
       "      <th></th>\n",
       "      <th>GEO_ID</th>\n",
       "      <th>STATE</th>\n",
       "      <th>COUNTY</th>\n",
       "      <th>NAME</th>\n",
       "      <th>LSAD</th>\n",
       "      <th>CENSUSAREA</th>\n",
       "      <th>geometry</th>\n",
       "      <th>STATE_NAME</th>\n",
       "    </tr>\n",
       "  </thead>\n",
       "  <tbody>\n",
       "    <tr>\n",
       "      <th>0</th>\n",
       "      <td>0500000US01001</td>\n",
       "      <td>01</td>\n",
       "      <td>001</td>\n",
       "      <td>Autauga</td>\n",
       "      <td>County</td>\n",
       "      <td>594.436</td>\n",
       "      <td>POLYGON ((-86.49677 32.34444, -86.71790 32.402...</td>\n",
       "      <td>Alabama</td>\n",
       "    </tr>\n",
       "    <tr>\n",
       "      <th>1</th>\n",
       "      <td>0500000US01009</td>\n",
       "      <td>01</td>\n",
       "      <td>009</td>\n",
       "      <td>Blount</td>\n",
       "      <td>County</td>\n",
       "      <td>644.776</td>\n",
       "      <td>POLYGON ((-86.57780 33.76532, -86.75914 33.840...</td>\n",
       "      <td>Alabama</td>\n",
       "    </tr>\n",
       "    <tr>\n",
       "      <th>2</th>\n",
       "      <td>0500000US01017</td>\n",
       "      <td>01</td>\n",
       "      <td>017</td>\n",
       "      <td>Chambers</td>\n",
       "      <td>County</td>\n",
       "      <td>596.531</td>\n",
       "      <td>POLYGON ((-85.18413 32.87053, -85.12342 32.772...</td>\n",
       "      <td>Alabama</td>\n",
       "    </tr>\n",
       "    <tr>\n",
       "      <th>3</th>\n",
       "      <td>0500000US01021</td>\n",
       "      <td>01</td>\n",
       "      <td>021</td>\n",
       "      <td>Chilton</td>\n",
       "      <td>County</td>\n",
       "      <td>692.854</td>\n",
       "      <td>POLYGON ((-86.51734 33.02057, -86.51596 32.929...</td>\n",
       "      <td>Alabama</td>\n",
       "    </tr>\n",
       "    <tr>\n",
       "      <th>4</th>\n",
       "      <td>0500000US01033</td>\n",
       "      <td>01</td>\n",
       "      <td>033</td>\n",
       "      <td>Colbert</td>\n",
       "      <td>County</td>\n",
       "      <td>592.619</td>\n",
       "      <td>POLYGON ((-88.13999 34.58170, -88.13925 34.587...</td>\n",
       "      <td>Alabama</td>\n",
       "    </tr>\n",
       "    <tr>\n",
       "      <th>5</th>\n",
       "      <td>0500000US01045</td>\n",
       "      <td>01</td>\n",
       "      <td>045</td>\n",
       "      <td>Dale</td>\n",
       "      <td>County</td>\n",
       "      <td>561.150</td>\n",
       "      <td>POLYGON ((-85.41644 31.61947, -85.41743 31.314...</td>\n",
       "      <td>Alabama</td>\n",
       "    </tr>\n",
       "    <tr>\n",
       "      <th>6</th>\n",
       "      <td>0500000US01051</td>\n",
       "      <td>01</td>\n",
       "      <td>051</td>\n",
       "      <td>Elmore</td>\n",
       "      <td>County</td>\n",
       "      <td>618.485</td>\n",
       "      <td>POLYGON ((-86.33678 32.76747, -86.31948 32.753...</td>\n",
       "      <td>Alabama</td>\n",
       "    </tr>\n",
       "    <tr>\n",
       "      <th>7</th>\n",
       "      <td>0500000US01065</td>\n",
       "      <td>01</td>\n",
       "      <td>065</td>\n",
       "      <td>Hale</td>\n",
       "      <td>County</td>\n",
       "      <td>643.943</td>\n",
       "      <td>POLYGON ((-87.42120 32.87451, -87.47217 32.830...</td>\n",
       "      <td>Alabama</td>\n",
       "    </tr>\n",
       "    <tr>\n",
       "      <th>8</th>\n",
       "      <td>0500000US01079</td>\n",
       "      <td>01</td>\n",
       "      <td>079</td>\n",
       "      <td>Lawrence</td>\n",
       "      <td>County</td>\n",
       "      <td>690.678</td>\n",
       "      <td>POLYGON ((-87.10507 34.68604, -87.10591 34.587...</td>\n",
       "      <td>Alabama</td>\n",
       "    </tr>\n",
       "    <tr>\n",
       "      <th>9</th>\n",
       "      <td>0500000US01083</td>\n",
       "      <td>01</td>\n",
       "      <td>083</td>\n",
       "      <td>Limestone</td>\n",
       "      <td>County</td>\n",
       "      <td>559.936</td>\n",
       "      <td>POLYGON ((-86.83631 34.99176, -86.82066 34.991...</td>\n",
       "      <td>Alabama</td>\n",
       "    </tr>\n",
       "    <tr>\n",
       "      <th>10</th>\n",
       "      <td>0500000US01099</td>\n",
       "      <td>01</td>\n",
       "      <td>099</td>\n",
       "      <td>Monroe</td>\n",
       "      <td>County</td>\n",
       "      <td>1025.675</td>\n",
       "      <td>POLYGON ((-86.90590 31.75304, -87.05228 31.716...</td>\n",
       "      <td>Alabama</td>\n",
       "    </tr>\n",
       "  </tbody>\n",
       "</table>\n",
       "</div>"
      ],
      "text/plain": [
       "            GEO_ID STATE COUNTY       NAME    LSAD  CENSUSAREA  \\\n",
       "0   0500000US01001    01    001    Autauga  County     594.436   \n",
       "1   0500000US01009    01    009     Blount  County     644.776   \n",
       "2   0500000US01017    01    017   Chambers  County     596.531   \n",
       "3   0500000US01021    01    021    Chilton  County     692.854   \n",
       "4   0500000US01033    01    033    Colbert  County     592.619   \n",
       "5   0500000US01045    01    045       Dale  County     561.150   \n",
       "6   0500000US01051    01    051     Elmore  County     618.485   \n",
       "7   0500000US01065    01    065       Hale  County     643.943   \n",
       "8   0500000US01079    01    079   Lawrence  County     690.678   \n",
       "9   0500000US01083    01    083  Limestone  County     559.936   \n",
       "10  0500000US01099    01    099     Monroe  County    1025.675   \n",
       "\n",
       "                                             geometry STATE_NAME  \n",
       "0   POLYGON ((-86.49677 32.34444, -86.71790 32.402...    Alabama  \n",
       "1   POLYGON ((-86.57780 33.76532, -86.75914 33.840...    Alabama  \n",
       "2   POLYGON ((-85.18413 32.87053, -85.12342 32.772...    Alabama  \n",
       "3   POLYGON ((-86.51734 33.02057, -86.51596 32.929...    Alabama  \n",
       "4   POLYGON ((-88.13999 34.58170, -88.13925 34.587...    Alabama  \n",
       "5   POLYGON ((-85.41644 31.61947, -85.41743 31.314...    Alabama  \n",
       "6   POLYGON ((-86.33678 32.76747, -86.31948 32.753...    Alabama  \n",
       "7   POLYGON ((-87.42120 32.87451, -87.47217 32.830...    Alabama  \n",
       "8   POLYGON ((-87.10507 34.68604, -87.10591 34.587...    Alabama  \n",
       "9   POLYGON ((-86.83631 34.99176, -86.82066 34.991...    Alabama  \n",
       "10  POLYGON ((-86.90590 31.75304, -87.05228 31.716...    Alabama  "
      ]
     },
     "execution_count": 76,
     "metadata": {},
     "output_type": "execute_result"
    }
   ],
   "source": [
    "US = US_Counties.merge(States)\n",
    "US.head(11)"
   ]
  },
  {
   "cell_type": "markdown",
   "id": "38a254f4",
   "metadata": {},
   "source": [
    "## Task 1\n",
    "n m most common county names"
   ]
  },
  {
   "cell_type": "code",
   "execution_count": 36,
   "id": "36d3f7b4",
   "metadata": {},
   "outputs": [],
   "source": [
    "def get_most_common(n):\n",
    "    return US.groupby(\"NAME\").size().nlargest(n)\n"
   ]
  },
  {
   "cell_type": "code",
   "execution_count": 37,
   "id": "2c3362c9",
   "metadata": {},
   "outputs": [
    {
     "data": {
      "text/plain": [
       "NAME\n",
       "Washington    31\n",
       "Franklin      26\n",
       "Jefferson     26\n",
       "dtype: int64"
      ]
     },
     "execution_count": 37,
     "metadata": {},
     "output_type": "execute_result"
    }
   ],
   "source": [
    "get_most_common(3)"
   ]
  },
  {
   "cell_type": "code",
   "execution_count": 38,
   "id": "9ec3dea1",
   "metadata": {},
   "outputs": [
    {
     "data": {
      "text/plain": [
       "NAME\n",
       "Washington    31\n",
       "Franklin      26\n",
       "Jefferson     26\n",
       "Jackson       24\n",
       "Lincoln       24\n",
       "dtype: int64"
      ]
     },
     "execution_count": 38,
     "metadata": {},
     "output_type": "execute_result"
    }
   ],
   "source": [
    "get_most_common(5)"
   ]
  },
  {
   "cell_type": "code",
   "execution_count": 39,
   "id": "52a9d77c",
   "metadata": {},
   "outputs": [
    {
     "data": {
      "text/plain": [
       "NAME\n",
       "Washington    31\n",
       "Franklin      26\n",
       "Jefferson     26\n",
       "Jackson       24\n",
       "Lincoln       24\n",
       "Madison       20\n",
       "Clay          18\n",
       "Montgomery    18\n",
       "Union         18\n",
       "Marion        17\n",
       "dtype: int64"
      ]
     },
     "execution_count": 39,
     "metadata": {},
     "output_type": "execute_result"
    }
   ],
   "source": [
    "get_most_common(10)"
   ]
  },
  {
   "cell_type": "markdown",
   "id": "32dad69a",
   "metadata": {},
   "source": [
    "## Task 2\n",
    "County Summary Statistics"
   ]
  },
  {
   "cell_type": "markdown",
   "id": "3d051adf",
   "metadata": {},
   "source": [
    "Total Number of counties (I Tried this in a few different ways and can't seem to get 3221 counties)"
   ]
  },
  {
   "cell_type": "code",
   "execution_count": 51,
   "id": "3388c2ad",
   "metadata": {},
   "outputs": [
    {
     "data": {
      "text/plain": [
       "GEO_ID        3143\n",
       "STATE         3143\n",
       "COUNTY        3143\n",
       "NAME          3143\n",
       "LSAD          3143\n",
       "CENSUSAREA    3143\n",
       "geometry      3143\n",
       "STATE_NAME    3143\n",
       "dtype: int64"
      ]
     },
     "execution_count": 51,
     "metadata": {},
     "output_type": "execute_result"
    }
   ],
   "source": [
    "US.count() "
   ]
  },
  {
   "cell_type": "markdown",
   "id": "b74dd694",
   "metadata": {},
   "source": [
    "Max County Area by State"
   ]
  },
  {
   "cell_type": "code",
   "execution_count": 60,
   "id": "ed4c156f",
   "metadata": {},
   "outputs": [
    {
     "data": {
      "text/html": [
       "<div>\n",
       "<style scoped>\n",
       "    .dataframe tbody tr th:only-of-type {\n",
       "        vertical-align: middle;\n",
       "    }\n",
       "\n",
       "    .dataframe tbody tr th {\n",
       "        vertical-align: top;\n",
       "    }\n",
       "\n",
       "    .dataframe thead th {\n",
       "        text-align: right;\n",
       "    }\n",
       "</style>\n",
       "<table border=\"1\" class=\"dataframe\">\n",
       "  <thead>\n",
       "    <tr style=\"text-align: right;\">\n",
       "      <th></th>\n",
       "      <th>CENSUSAREA</th>\n",
       "    </tr>\n",
       "    <tr>\n",
       "      <th>STATE_NAME</th>\n",
       "      <th></th>\n",
       "    </tr>\n",
       "  </thead>\n",
       "  <tbody>\n",
       "    <tr>\n",
       "      <th>Alabama</th>\n",
       "      <td>1589.784</td>\n",
       "    </tr>\n",
       "    <tr>\n",
       "      <th>Alaska</th>\n",
       "      <td>145504.789</td>\n",
       "    </tr>\n",
       "    <tr>\n",
       "      <th>Arizona</th>\n",
       "      <td>18618.885</td>\n",
       "    </tr>\n",
       "    <tr>\n",
       "      <th>Arkansas</th>\n",
       "      <td>1039.214</td>\n",
       "    </tr>\n",
       "    <tr>\n",
       "      <th>California</th>\n",
       "      <td>20056.938</td>\n",
       "    </tr>\n",
       "    <tr>\n",
       "      <th>Colorado</th>\n",
       "      <td>4772.672</td>\n",
       "    </tr>\n",
       "  </tbody>\n",
       "</table>\n",
       "</div>"
      ],
      "text/plain": [
       "            CENSUSAREA\n",
       "STATE_NAME            \n",
       "Alabama       1589.784\n",
       "Alaska      145504.789\n",
       "Arizona      18618.885\n",
       "Arkansas      1039.214\n",
       "California   20056.938\n",
       "Colorado      4772.672"
      ]
     },
     "execution_count": 60,
     "metadata": {},
     "output_type": "execute_result"
    }
   ],
   "source": [
    "Max_States = US.groupby(\"STATE_NAME\").max(\"CENSUSAREA\")\n",
    "Max_States.head(6)"
   ]
  },
  {
   "cell_type": "markdown",
   "id": "9acb2956",
   "metadata": {},
   "source": [
    "Min County Area by State"
   ]
  },
  {
   "cell_type": "code",
   "execution_count": 61,
   "id": "1c524502",
   "metadata": {},
   "outputs": [
    {
     "data": {
      "text/html": [
       "<div>\n",
       "<style scoped>\n",
       "    .dataframe tbody tr th:only-of-type {\n",
       "        vertical-align: middle;\n",
       "    }\n",
       "\n",
       "    .dataframe tbody tr th {\n",
       "        vertical-align: top;\n",
       "    }\n",
       "\n",
       "    .dataframe thead th {\n",
       "        text-align: right;\n",
       "    }\n",
       "</style>\n",
       "<table border=\"1\" class=\"dataframe\">\n",
       "  <thead>\n",
       "    <tr style=\"text-align: right;\">\n",
       "      <th></th>\n",
       "      <th>CENSUSAREA</th>\n",
       "    </tr>\n",
       "    <tr>\n",
       "      <th>STATE_NAME</th>\n",
       "      <th></th>\n",
       "    </tr>\n",
       "  </thead>\n",
       "  <tbody>\n",
       "    <tr>\n",
       "      <th>Alabama</th>\n",
       "      <td>534.991</td>\n",
       "    </tr>\n",
       "    <tr>\n",
       "      <th>Alaska</th>\n",
       "      <td>452.325</td>\n",
       "    </tr>\n",
       "    <tr>\n",
       "      <th>Arizona</th>\n",
       "      <td>1236.916</td>\n",
       "    </tr>\n",
       "    <tr>\n",
       "      <th>Arkansas</th>\n",
       "      <td>528.268</td>\n",
       "    </tr>\n",
       "    <tr>\n",
       "      <th>California</th>\n",
       "      <td>46.873</td>\n",
       "    </tr>\n",
       "    <tr>\n",
       "      <th>Colorado</th>\n",
       "      <td>33.034</td>\n",
       "    </tr>\n",
       "  </tbody>\n",
       "</table>\n",
       "</div>"
      ],
      "text/plain": [
       "            CENSUSAREA\n",
       "STATE_NAME            \n",
       "Alabama        534.991\n",
       "Alaska         452.325\n",
       "Arizona       1236.916\n",
       "Arkansas       528.268\n",
       "California      46.873\n",
       "Colorado        33.034"
      ]
     },
     "execution_count": 61,
     "metadata": {},
     "output_type": "execute_result"
    }
   ],
   "source": [
    "Min_States = US.groupby(\"STATE_NAME\").min(\"CENSUSAREA\")\n",
    "Min_States.head(6)"
   ]
  },
  {
   "cell_type": "markdown",
   "id": "25eff378",
   "metadata": {},
   "source": [
    "## Task 4\n",
    "Plotting Most Common Counties"
   ]
  },
  {
   "cell_type": "code",
   "execution_count": 108,
   "id": "f1619c9e",
   "metadata": {},
   "outputs": [
    {
     "data": {
      "text/plain": [
       "<AxesSubplot: >"
      ]
     },
     "execution_count": 108,
     "metadata": {},
     "output_type": "execute_result"
    },
    {
     "data": {
      "image/png": "[encoded data removed]",
      "text/plain": [
       "<Figure size 640x480 with 1 Axes>"
      ]
     },
     "metadata": {},
     "output_type": "display_data"
    }
   ],
   "source": [
    "USA = r\"C:\\Users\\grizt\\Documents\\GTECH731\\Session 8\\Contigous.geojson\"\n",
    "Contiguous = gpd.read_file(USA)\n",
    "\n",
    "Common_Counties = US.loc[US['NAME'].isin([\"Franklin\",\"Jefferson\",\"Washington\"])]\n",
    "\n",
    "Contiguous = Contiguous.to_crs(Common_Counties.crs)\n",
    "ax = Common_Counties.plot(zorder=2)\n",
    "Contiguous.plot(ax=ax, facecolor=\"none\", edgecolor='black')"
   ]
  },
  {
   "cell_type": "code",
   "execution_count": null,
   "id": "2145211e",
   "metadata": {},
   "outputs": [],
   "source": []
  }
 ],
 "metadata": {
  "kernelspec": {
   "display_name": "Python 3 (ipykernel)",
   "language": "python",
   "name": "python3"
  },
  "language_info": {
   "codemirror_mode": {
    "name": "ipython",
    "version": 3
   },
   "file_extension": ".py",
   "mimetype": "text/x-python",
   "name": "python",
   "nbconvert_exporter": "python",
   "pygments_lexer": "ipython3",
   "version": "3.8.13"
  }
 },
 "nbformat": 4,
 "nbformat_minor": 5
}
