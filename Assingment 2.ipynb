{
 "cells": [
  {
   "cell_type": "markdown",
   "id": "99efd333",
   "metadata": {},
   "source": [
    "## Assignment 2 - GTECH731\n",
    "\n",
    "# Griztko Erickson"
   ]
  },
  {
   "cell_type": "markdown",
   "id": "a6f5c7b8",
   "metadata": {},
   "source": [
    "# Reading in Data"
   ]
  },
  {
   "cell_type": "code",
   "execution_count": 18,
   "id": "7bde2ac4-d6da-4a36-b605-d1ab8e490efa",
   "metadata": {},
   "outputs": [
    {
     "name": "stdout",
     "output_type": "stream",
     "text": [
      "Number of Counties in US: 3221\n"
     ]
    }
   ],
   "source": [
    "import io\n",
    "import time\n",
    "import requests, json \n",
    "url = \"https://eric.clst.org/assets/wiki/uploads/Stuff/gz_2010_us_050_00_5m.json\"\n",
    "\n",
    "with requests.get(url) as response:\n",
    "    data = response.json()\n",
    "    print('Number of Counties in US: ' + str(len(data['features'])))\n",
    "    "
   ]
  },
  {
   "cell_type": "markdown",
   "id": "b7352f56",
   "metadata": {},
   "source": [
    "# List of County names "
   ]
  },
  {
   "cell_type": "code",
   "execution_count": 120,
   "id": "b7d77b71-cbb7-4a69-9796-4ad01b9aa43c",
   "metadata": {},
   "outputs": [
    {
     "name": "stdout",
     "output_type": "stream",
     "text": [
      "['Fleming', 'Iron', 'Worth', 'Foard', 'Jefferson', 'Vermillion', 'McLeod', 'McCulloch', 'Keweenaw', 'Kidder', 'Manitowoc', 'Bracken', 'Wyandot', 'Greenup', 'Bartow', 'Hendricks', 'Juncos', 'Botetourt', 'Perquimans', 'Conejos', 'Deschutes', 'Alameda', 'Tate', 'Colorado', 'Clermont', 'Carver', 'Bryan', 'Beaufort', 'Isanti', 'Pend Oreille', 'Woods', 'Brooks', 'St. Lawrence', 'Lexington', 'Potter', 'Ripley', 'Mills', 'Peoria', 'Broomfield', 'Meeker', 'Stanly', 'Dearborn', 'Can�vanas', 'Chickasaw', 'Hitchcock', 'Phelps', 'Yancey', 'Breathitt', 'Comanche', 'Oregon', 'Rankin', 'Villalba', 'Vieques', 'Yakima', 'Chattooga', 'Simpson', 'Pope', 'Tuolumne', 'Edwards', 'Stokes', 'Greenbrier', 'Stephens', 'Terry', 'Martinsville', 'Starke', 'Angelina', 'Wirt', \"O'Brien\", 'Woodruff', 'Republic', 'Webb', 'Virginia Beach', 'Musselshell', 'Camp', 'Wake', 'Allamakee', 'Rusk', 'Screven', 'Cerro Gordo', 'Humacao', 'Falls', 'Wheeler', 'Kearney', 'Comer�o', 'Knox', 'Wasatch', 'Huron', 'Buchanan', 'Granite', 'Grenada', 'Tensas', 'Iberville', 'Racine', 'Appling', 'Gentry', 'Jennings', 'Yavapai', 'Arroyo', 'Lewis', 'Baltimore', 'Edmonson', 'James City', 'King', 'Kimball', 'Tazewell', 'Rice', 'Benzie', 'Caribou', 'Habersham', 'Vinton', 'Chaves', 'Cayuga', 'Laramie', 'Barranquitas', 'Towner', 'Cheatham', 'Latah', 'Brantley', 'Motley', 'Bennett', 'St. Mary', 'Chemung', 'Cowley', 'Dinwiddie', 'Page', 'Huntingdon', 'Roscommon', 'Mariposa', 'Berkshire', 'Greenlee', 'Lorain', 'Kleberg', 'Raleigh', 'Childress', 'Dorchester', 'Burnet', 'Comal', 'Arapahoe', 'Ottawa', 'Terrell', 'Powhatan', 'Barnwell', 'Limestone', 'Brevard', 'Broome', 'Nemaha', 'Alamance', 'Mobile', 'Vance', 'Lincoln', 'Prowers', 'Buena Vista', 'Valdez-Cordova', 'Audrain', 'Thomas', 'Chesterfield', 'Muskingum', 'Oglethorpe', 'Tarrant', 'Goshen', 'Ponce', 'Culpeper', 'Bingham', 'Upson', 'Latimer', 'Paulding', 'Sublette', 'Hardin', 'Roberts', 'Napa', 'Louisa', 'Okeechobee', 'Shoshone', 'Wagoner', 'Greer', 'Colfax', 'Rio Blanco', 'Yankton', 'Honolulu', 'Stonewall', 'Ada', 'Juneau', 'Guernsey', 'Winneshiek', 'Atchison', 'Brule', 'Ferry', 'Jo Daviess', 'Allegheny', 'Lehigh', 'Bland', 'Hettinger', 'Belknap', 'Ouray', 'Ontonagon', 'Jefferson Davis', 'Dubois', 'Pembina', 'Dolores', 'Grady', 'Gove', 'Hardeman', 'Hartley', 'Shasta', 'Elko', 'El Dorado', 'Clayton', 'Kemper', 'Skamania', 'Evans', 'Mora', 'Boulder', 'Pendleton', 'Jay', 'McKinley', 'Aibonito', 'Duchesne', 'Jayuya', 'Spartanburg', 'Trumbull', 'Ziebach', 'Elmore', 'Russell', 'Fulton', 'Clearwater', 'Ringgold', 'Berks', 'Santa Fe', 'Shannon', 'Ellsworth', 'San Francisco', 'Sac', 'Kings', 'Rockbridge', 'Golden Valley', 'Cecil', \"Queen Anne's\", 'Crow Wing', 'Cook', 'Hodgeman', 'Milam', 'Divide', 'Elkhart', 'Martin', 'Alamosa', 'Starr', 'Somervell', 'Judith Basin', 'Bee', 'Mower', 'Keith', 'Delta', 'Jasper', 'Sharkey', 'Tioga', 'Tipton', 'Nowata', 'Wicomico', 'Bronx', 'Hand', 'Cabo Rojo', 'Fallon', 'Phillips', 'Whitman', 'Fairbanks North Star', 'Dickens', 'Sarasota', 'Houston', 'Floyd', 'Chouteau', 'Morrill', 'Schoharie', 'Gadsden', 'Mahnomen', 'Bristol', 'Kenton', 'Fremont', 'Audubon', 'Merrick', 'Sauk', 'Koochiching', 'Bollinger', 'Loup', 'Briscoe', 'Kay', 'Newton', 'Taos', 'Cortland', 'Pinal', 'Somerset', 'Sawyer', 'Kalamazoo', 'Powell', 'Richardson', 'Wharton', 'Wyandotte', 'Kit Carson', 'Lac qui Parle', 'Haakon', 'Tehama', 'Stone', 'Aroostook', 'Anderson', 'Stanley', 'Isabela', 'Hubbard', 'Davison', 'Pershing', 'Queens', 'Archer', 'Fluvanna', 'Chisago', 'Geary', 'Quebradillas', 'Matagorda', 'Heard', 'McCurtain', 'Covington', 'Tallapoosa', 'Howell', 'Sussex', 'Pima', 'Dunklin', 'Coryell', 'Milwaukee', 'Palo Pinto', 'Cottle', 'Otsego', 'New Kent', 'Falls Church', 'Aurora', 'Sangamon', 'Plumas', 'Power', 'Carolina', 'Hughes', 'Watonwan', 'Sioux', 'Creek', 'Bosque', 'Lonoke', 'Cidra', 'De Baca', 'Edmunds', 'Florida', 'Northampton', 'Dallas', 'Dawes', 'La Paz', 'White Pine', 'Coffey', 'Elliott', 'Daviess', 'Ross', 'Stanton', 'Trinity', 'Bourbon', 'Aitkin', 'Furnas', 'Gwinnett', 'Livingston', 'Hampton', 'Esmeralda', 'Conway', 'Accomack', 'Santa Cruz', 'Ford', 'Skagway', 'Rhea', 'Lake', 'Seward', 'Hanson', 'Bond', 'Glacier', 'Houghton', 'Victoria', 'Mingo', 'Rosebud', 'Amelia', 'Winkler', 'Rogers', 'Mississippi', 'Chautauqua', 'LaMoure', 'Carson', 'Quitman', 'Howard', 'Sargent', 'Collin', 'Long', 'Schuylkill', 'Mayes', 'Laurel', 'Oakland', 'Mitchell', 'Pine', 'Letcher', 'Tompkins', 'Oklahoma', 'Fannin', 'Montague', 'Woodson', 'Pocahontas', 'Manatee', 'West Carroll', 'Stanislaus', 'Taliaferro', 'Muskogee', 'Orleans', 'Montour', 'Bear Lake', 'Santa Rosa', 'Amite', 'Chester', 'Fayette', 'Holmes', 'Robeson', 'Ward', 'Nicollet', 'Presque Isle', 'Montezuma', 'Gaines', 'Los Angeles', 'Cross', 'Whitfield', 'Citrus', 'St. Francois', 'Ocean', 'Swisher', 'Dorado', 'Unicoi', 'New Castle', 'Hawaii', 'Blaine', 'Defiance', 'Walker', 'Deer Lodge', 'Yukon-Koyukuk', 'Moniteau', 'Dyer', 'Mellette', 'McCracken', 'Dickey', 'Atkinson', 'Bent', 'Bay', 'Tulare', 'Hernando', 'Manassas', 'Coal', 'Throckmorton', 'Major', 'McCone', 'Leslie', 'Stafford', 'Duplin', 'Prairie', 'Johnston', 'Essex', 'Naranjito', 'Allegany', 'Bradley', 'Austin', 'Beauregard', 'Hemphill', 'Walsh', 'Hendry', 'Tooele', 'Sarpy', 'Bannock', 'Edgar', 'Pepin', 'Nance', 'Fergus', 'Teton', 'McDonough', 'Luquillo', 'Meade', 'Blount', 'Caldwell', 'Colleton', 'Sandoval', 'Clare', 'Boyd', 'Georgetown', 'Fond du Lac', 'Kodiak Island', 'Hopewell', 'Gila', 'Chippewa', 'Ritchie', 'Northumberland', 'Wallowa', 'Calcasieu', \"St. Mary's\", 'Donley', 'Issaquena', 'Emmet', 'Drew', 'Saguache', 'Poweshiek', 'Columbus', 'Luna', 'Bradford', 'Cheshire', 'Rinc�n', 'Treasure', 'Red Willow', 'Denali', 'Arenac', 'Pottawattamie', 'Parmer', 'Mahoning', 'Metcalfe', 'Barnes', 'Polk', 'Stark', 'DeKalb', 'Marathon', 'Wells', 'Keya Paha', 'Pratt', 'Payette', 'Ventura', 'Dimmit', 'Athens', 'Coles', 'Codington', 'Apache', 'Edgecombe', 'Adair', 'Glasscock', 'George', 'Calhoun', 'Marion', 'Pike', 'Burke', 'Radford', 'Lewis and Clark', 'Barnstable', 'Preble', 'Idaho', 'Cooke', 'Burlington', 'Siskiyou', 'Rowan', 'Millard', 'Oceana', 'Wibaux', 'Bladen', 'Neosho', 'Nottoway', 'Mesa', 'Magoffin', 'Wahkiakum', 'Catahoula', 'Northwest Arctic', 'Roseau', 'Piatt', 'Bottineau', 'Pecos', 'Minidoka', 'Monmouth', 'Larue', 'Owsley', 'Swift', 'Real', 'Hayes', 'Eagle', 'Oscoda', 'Liberty', 'Waldo', 'Niobrara', 'Menominee', 'Summit', 'Izard', 'Titus', 'Fredericksburg', 'Hyde', 'Stillwater', 'Campbell', 'King George', 'Dubuque', 'Imperial', 'Geneva', 'Carson City', 'Buffalo', 'Erie', 'Jenkins', 'Portage', 'Calloway', 'Daniels', 'Kingman', 'Hart', 'St. Martin', 'Montmorency', 'Macoupin', 'Sanpete', 'Blair', 'Sumter', 'Anson', 'Texas', 'Vernon', 'Nobles', 'Alfalfa', 'La Crosse', 'Monona', 'Putnam', 'Benton', 'Etowah', 'Richland', 'Naguabo', 'Lamar', 'Cleveland', 'Taney', 'Baraga', 'Perry', 'Miami-Dade', 'Sacramento', 'Hanover', 'Kent', 'Runnels', 'Freeborn', 'Gage', 'Penobscot', 'Young', 'Stewart', 'Frio', 'Gillespie', 'Windsor', 'Plaquemines', 'Wetzel', 'Lake of the Woods', 'Lyman', 'Ector', 'Dillon', 'Pender', 'Routt', 'West Feliciana', 'Wabasha', 'Clearfield', 'Vega Baja', 'Centre', 'Bonneville', 'Caledonia', 'Skagit', 'Blanco', 'Otter Tail', 'Linn', 'East Baton Rouge', 'Fajardo', 'Walla Walla', 'Clackamas', 'Wright', 'Juab', 'Turner', 'Middlesex', 'Currituck', 'Wyoming', 'Tucker', 'Rooks', 'Utah', 'Bullitt', 'Palm Beach', 'Bertie', 'Oconto', 'Fisher', 'Cotton', 'Ellis', 'Clallam', 'Canyon', 'Washita', 'Durham', 'Iberia', 'Iosco', 'Llano', 'Sheridan', 'Southampton', 'Chatham', 'Estill', 'Ouachita', 'Cameron', 'Pickett', 'Lafourche', 'Goliad', 'Decatur', 'Slope', 'Hooker', 'East Feliciana', 'Coweta', 'Gosper', 'Refugio', 'Dallam', 'Watauga', 'Sheboygan', 'Hertford', 'Montgomery', 'Bailey', 'McLean', 'Duval', 'Charles City', 'Yellow Medicine', 'Attala', 'Talbot', 'Laurens', 'Hays', 'Huntington', 'Smith', 'Morrison', 'Clinton', 'Piute', 'Ionia', 'Flagler', 'Independence', 'Mercer', 'Multnomah', 'Crawford', 'Colonial Heights', 'Wythe', 'Schley', 'Bethel', 'Waynesboro', 'Cherry', 'Mono', 'McKean', 'Sully', 'Brooke', 'Alexander', 'Pittsylvania', 'Davie', 'Owen', 'Pulaski', 'Yolo', 'Antelope', 'Kern', 'Hatillo', 'Sutter', 'Eureka', 'Warren', 'Conecuh', 'Kimble', 'Pamlico', 'Becker', 'Luzerne', 'Montcalm', 'Moore', 'Yellowstone', 'Barbour', 'Amherst', 'Ashe', 'Callahan', 'Mathews', 'Van Zandt', 'Burleigh', 'Brookings', 'Yabucoa', 'McMinn', 'Breckinridge', 'Nicholas', 'Massac', 'Ray', 'Pondera', 'Contra Costa', 'Cole', 'Indiana', 'Pemiscot', 'Barren', 'Steuben', 'Leavenworth', 'Sampson', 'Pasquotank', 'Greene', 'Arthur', 'Stoddard', 'Augusta', 'Bucks', 'Bossier', 'Williamson', 'Boise', 'Newaygo', 'Utuado', 'Pueblo', 'Galax', 'Gasconade', 'Terrebonne', 'Yamhill', 'Frontier', 'Bolivar', 'Loving', 'Montrose', 'Ingham', 'Cattaraugus', 'Gallia', 'Dickson', 'Lackawanna', 'Juniata', 'Roosevelt', 'Coconino', 'Ashtabula', 'Wilkes', 'Gilpin', 'Redwood', 'De Witt', 'Riley', 'Platte', 'Henry', 'Kiowa', 'Coosa', 'Aguada', 'Winston', 'Sibley', 'Aguas Buenas', 'Brunswick', 'Chaffee', 'Calvert', 'Grand Forks', 'Sutton', 'Madison', 'Spalding', 'Klamath', 'Catawba', 'Vega Alta', 'Cabarrus', 'Rich', 'Winona', 'Glades', 'Waseca', 'Meigs', 'Wilbarger', 'Tunica', 'Broward', 'Cherokee', 'Emery', 'Cumberland', 'Barron', 'Charlton', 'Seneca', 'Carter', 'Foster', 'Concho', 'Harper', 'Toole', 'Steele', 'Suwannee', 'Beaverhead', 'Catron', 'Doddridge', 'Petroleum', 'Churchill', 'Kitsap', 'Rolette', 'St. Lucie', 'Hunt', 'St. Joseph', 'Hot Spring', 'Lancaster', 'Des Moines', 'Laclede', 'Saratoga', 'San Juan', 'Champaign', 'Sonoma', 'Danville', 'Love', 'Gu�nica', 'Weld', 'Schuyler', 'A�asco', 'McCreary', 'Matanuska-Susitna', 'Umatilla', 'Uintah', 'White', 'Wade Hampton', 'Morton', 'Reeves', 'Worcester', 'Ravalli', 'Oxford', 'Franklin', 'Jewell', 'Elbert', 'Tillman', 'Alexandria', 'Los Alamos', 'Crosby', 'Forest', 'Jeff Davis', 'Harlan', 'Wabash', 'Smyth', 'Nueces', 'Humphreys', 'Yates', 'Traverse', 'Fresno', 'Sitka', 'Lo�za', 'Kauai', 'Lamb', 'Wheatland', 'Whatcom', 'Grand Isle', 'Mendocino', 'Ness', 'Kalawao', 'Mayag�ez', 'Missaukee', 'Kittitas', 'Alleghany', 'Dawson', 'Woodford', 'Treutlen', 'Bullock', 'Gates', 'Ogle', 'Yalobusha', 'Hale', 'Kootenai', 'Vermilion', 'Whitley', 'Chenango', 'Chambers', 'Burleson', 'Menifee', 'Pontotoc', 'Waukesha', 'San Diego', 'Gaston', 'Box Elder', 'Navarro', 'Bledsoe', 'Branch', 'Mohave', 'Dent', 'Pawnee', 'San Joaquin', 'Waller', 'Lemhi', 'Atlantic', 'Muhlenberg', 'Grimes', 'Benewah', 'Flathead', 'Pasco', 'Cobb', 'Dixie', 'Cottonwood', 'Rains', 'Dewey', 'Addison', 'Patillas', 'Modoc', 'Nome', 'Torrance', 'Hardee', 'Pe�uelas', 'Castro', 'Wichita', 'Tallahatchie', 'Mountrail', 'Braxton', 'Amador', 'Pearl River', 'Wadena', 'Baca', 'Appanoose', 'Bowman', 'Lubbock', 'St. Johns', 'Rockingham', 'Menard', 'Pinellas', 'Price', 'St. Charles', 'Ralls', 'Nelson', 'Fauquier', 'Herkimer', 'Trousdale', 'Nassau', 'Powder River', 'Jackson', 'Rockland', 'Ascension', 'Switzerland', 'Ogemaw', 'Irwin', 'Sandusky', 'Jim Hogg', 'Owyhee', 'Bacon', 'Aleutians West', 'McMullen', 'Casey', 'Humboldt', 'Levy', 'Lowndes', 'Gogebic', 'Tyrrell', 'District of Columbia', 'Tuscarawas', 'Bennington', 'Chattahoochee', 'Sedgwick', 'Wabaunsee', 'Zapata', 'Lucas', 'Gregg', 'Lebanon', 'Prince George', 'Van Wert', 'Maries', 'Lea', 'Leon', 'Washakie', 'Kandiyohi', 'Alger', 'Desha', 'Lander', 'Ozaukee', 'Iredell', 'Loudon', 'Bandera', 'St. Helena', 'Buncombe', 'Gallatin', 'Sanborn', 'Twin Falls', 'Cleburne', 'Whiteside', 'San Saba', 'Panola', 'Lapeer', 'La Salle', 'Stephenson', 'Klickitat', 'Hockley', 'Prince William', 'Sevier', 'Las Animas', 'Dutchess', 'Tattnall', 'Yuma', 'Manassas Park', 'Eastland', 'Spencer', 'Cannon', 'Woodward', 'King William', 'Eddy', 'Bayam�n', 'Park', 'Crane', 'Butts', 'Dickenson', 'Twiggs', 'Cowlitz', 'Camas', 'Shawano', 'Camden', 'Nodaway', 'Cape May', 'Dickinson', 'Rio Arriba', 'Bon Homme', 'Cochise', 'Talladega', 'Pittsburg', 'Juana D�az', 'Culberson', 'Haskell', 'Ramsey', 'Bath', 'Ohio', 'Cayey', 'La Plata', 'Oswego', 'Island', 'Wapello', 'Barton', 'Sagadahoc', 'Prince of Wales-Hyder', 'Barceloneta', 'Kanawha', 'Burnett', 'Baldwin', 'Inyo', 'Kaufman', 'Shawnee', 'Clay', 'Carlisle', 'Harvey', 'Grainger', 'Harmon', \"Prince George's\", 'Gooding', 'Gray', 'Charleston', 'Deuel', 'Reno', 'Harford', 'Big Horn', 'Randolph', 'McCook', 'San Germ�n', 'Allendale', 'Leake', 'Kosciusko', 'St. Louis', 'Grant', 'Berkeley', 'Tillamook', 'Greensville', 'Wood', 'Nacogdoches', 'Hickory', 'Hamlin', 'Beaver', 'Fall River', 'Grand Traverse', 'Merrimack', 'Cass', 'Spink', 'Snyder', 'Colquitt', 'Marin', 'Santa Barbara', 'Wakulla', 'R�o Grande', 'Hamblen', 'Trempealeau', 'Tift', 'Geauga', 'Las Piedras', 'Hood', 'Otero', 'Will', 'Scurry', 'Newport News', 'Alcorn', 'Sierra', 'Ochiltree', 'Teller', 'Alpine', 'Christian', 'Clarke', 'Pleasants', 'Sherman', 'Lenoir', 'McLennan', 'Frederick', 'Concordia', 'Clear Creek', 'Acadia', 'Venango', 'Bastrop', 'Harney', 'Abbeville', 'Caddo', 'Lane', 'Sweetwater', 'Hormigueros', 'Copiah', 'Gunnison', 'Highland', 'Passaic', 'Okfuskee', 'Iroquois', 'Fentress', 'Toa Baja', 'Guilford', 'Allen', 'Corozal', 'Upton', 'Washburn', 'Guayama', 'Riverside', 'Sherburne', 'Morrow', 'San Benito', 'Jessamine', 'Choctaw', 'Forsyth', 'Kerr', 'Davidson', 'Cloud', 'Hampden', 'Miami', 'Tippah', 'Loudoun', 'Onslow', 'Atoka', 'Coke', 'Palo Alto', 'Storey', 'Manat�', 'DeWitt', 'Barber', 'Mineral', 'Hudson', 'Dane', 'Galveston', 'New Haven', 'Saline', 'Mason', 'Moultrie', 'Labette', 'Beltrami', 'York', 'Evangeline', 'Baylor', 'Cullman', 'Bleckley', 'Red River', 'Aleutians East', 'Pacific', 'Maury', 'Lyon', 'Anchorage', 'Sullivan', 'Hocking', 'Saginaw', 'Henrico', 'Manistee', 'Oliver', 'Uinta', 'Washington', 'Quay', 'Trujillo Alto', 'Marshall', 'Arkansas', 'Chicot', 'Santa Clara', 'Dukes', 'Meagher', 'Muskegon', 'Harnett', 'Lawrence', 'Faulkner', 'Greenwood', 'Lanier', 'Brazos', 'Jerome', 'Adjuntas', 'Zavala', 'Dundy', 'Deaf Smith', 'Kinney', 'Hot Springs', 'Kenosha', 'Natchitoches', 'St. Clair', 'Aguadilla', 'San Augustine', 'Posey', 'Ozark', 'Canadian', 'Culebra', 'Wilson', 'Bibb', 'Calaveras', 'Sequoyah', 'North Slope', 'Moody', 'Outagamie', 'Henderson', 'Webster', 'Le Flore', 'Ransom', 'Las Mar�as', 'Door', 'Wise', 'Litchfield', 'Coshocton', 'Hempstead', 'Emanuel', 'Oconee', 'Live Oak', 'Pennington', 'Green Lake', 'Coleman', 'Mille Lacs', 'Indian River', 'Sanilac', 'Scotts Bluff', 'Guthrie', 'Orangeburg', 'Langlade', 'Lunenburg', 'Sharp', 'Maui', 'Box Butte', 'Hardy', 'Lynn', 'Bremer', 'Albemarle', 'Aiken', 'Lavaca', 'Garden', 'West Baton Rouge', 'Huerfano', 'Bates', 'Glenn', 'Marlboro', 'Glynn', 'Atascosa', 'Pointe Coupee', 'Uvalde', 'Morehouse', 'Osage', 'Dale', 'Seminole', 'Perkins', 'New London', 'Dakota', 'Gem', 'Gibson', 'Missoula', 'Horry', 'Escambia', 'Van Buren', 'Shackelford', 'Crockett', 'Goodhue', 'Weakley', 'New Hanover', 'Tuscaloosa', 'Avery', 'Norfolk', 'Colbert', 'Yadkin', 'Windham', 'Woodbury', 'Monterey', 'Asotin', 'Griggs', 'Cache', 'Cimarron', 'Itasca', 'Lycoming', 'Bartholomew', 'Yell', 'Schoolcraft', 'McDonald', 'Saunders', 'Broadwater', 'Surry', 'Overton', 'Calumet', 'Yauco', 'Lares', 'Pickens', 'Costilla', 'Ontario', 'Luce', 'Rappahannock', 'San Miguel', 'Day', 'Grayson', 'Walthall', 'Goochland', 'Hansford', 'McClain', 'McDuffie', 'San Bernardino', 'Yazoo', 'San Luis Obispo', 'Thayer', 'Belmont', 'Ballard', 'Preston', 'Mahaska', 'Finney', 'New Madrid', 'Taylor', 'Cape Girardeau', 'Cabell', 'Jones', 'Ashley', 'Josephine', 'Schleicher', 'Assumption', 'Charles', 'Westmoreland', 'Cheboygan', 'Nantucket', 'Garza', 'Grays Harbor', 'Jack', 'Wrangell', 'Bowie', 'Collingsworth', 'Butler', 'Natrona', 'Anne Arundel', 'Fairfax', 'Denver', 'Lafayette', 'Gilmer', 'Do�a Ana', 'Anoka', 'LaPorte', 'Shiawassee', 'Reynolds', 'Charlevoix', 'Fillmore', 'Emmons', 'King and Queen', 'Andrew', 'Merced', 'Bristol Bay', 'Sequatchie', 'Caswell', 'Forrest', 'St. Landry', 'Alachua', 'Miner', 'Ware', 'Ciales', 'Suffolk', 'Toa Alta', 'Marquette', 'Bienville', 'Guaynabo', 'Billings', 'Faribault', 'Lipscomb', 'Rutland', 'Carbon', 'Leelanau', 'Susquehanna', 'Guayanilla', 'Autauga', 'Candler', 'Mecklenburg', 'San Mateo', 'Adams', 'Kittson', 'Tangipahoa', 'Warrick', 'Thurston', 'Payne', 'Dunn', 'Minnehaha', 'DeSoto', 'McNairy', 'Wilcox', 'Telfair', 'St. Tammany', 'Bernalillo', 'Kane', 'Toombs', 'Giles', 'Meriwether', 'Le Sueur', 'Scioto', 'Hidalgo', 'Macon', 'Gregory', 'Piscataquis', 'Reagan', 'Bedford', 'Yuba', 'LaSalle', 'Hood River', 'Hoonah-Angoon', 'Clinch', 'Morgan', 'Effingham', 'Obion', 'Nuckolls', 'Rutherford', 'Pushmataha', 'Noble', 'Grafton', 'Poquoson', 'Plymouth', 'Rio Grande', 'McDowell', 'Sumner', 'Kershaw', 'Darlington', 'Kewaunee', 'Ketchikan Gateway', 'Aransas', 'Gladwin', 'Graham', 'Buckingham', 'Cocke', 'Mifflin', 'Davis', 'Scotland', 'Pettis', 'Gilchrist', 'Bamberg', 'Pipestone', 'Berrien', 'Walworth', 'Williams', 'Converse', 'Southeast Fairbanks', 'Erath', 'Stutsman', 'Freestone', 'Chase', 'Peach', 'Clarendon', 'Itawamba', 'Spotsylvania', 'Green', 'Emporia', 'Grundy', 'Summers', 'Union', 'Okmulgee', 'Arlington', 'Orocovis', 'Gonzales', 'Appomattox', 'Dooly', 'Barrow', 'Beckham', 'Lumpkin', 'Sunflower', 'Faulk', 'Garland', 'Morovis', 'Brazoria', 'Rock Island', 'Lauderdale', 'Haines', 'Staunton', 'Cambria', 'Hillsborough', 'Blackford', 'Orange', 'Catoosa', 'Jerauld', 'Stearns', 'Fairfield', 'Carlton', 'Traill', 'Otoe', 'Gordon', 'Dougherty', 'Petersburg', 'Miller', 'Bexar', 'Kingsbury', 'Prince Edward', 'Collier', 'Eaton', 'Parke', 'Norton', 'Kenai Peninsula', 'Halifax', 'Cochran', 'Hinds', 'Craven', 'Cascade', 'Scott', 'Person', 'Winnebago', 'St. Croix', 'Rock', 'Weston', 'Onondaga', 'Boyle', 'Yoakum', 'Poinsett', 'Bell', 'Marinette', 'Hoke', 'Kossuth', 'Florence', 'Chowan', 'Curry', 'Maunabo', 'Camuy', 'Parker', 'Columbiana', 'St. Bernard', 'Brewster', 'Elk', 'Kalkaska', 'Coffee', 'Oneida', 'Darke', 'Winn', 'Moffat', 'Johnson', 'Macomb', 'Maverick', 'Cedar', 'Monroe', 'Maricopa', 'Dade', 'Haywood', 'Richmond', 'Rockcastle', 'Denton', 'Stevens', 'Patrick', 'Placer', 'Gratiot', 'Muscogee', 'Ida', 'Tolland', 'Harrisonburg', 'Clark', 'Crook', 'Garrard', 'Silver Bow', 'Lassen', 'McKenzie', 'Lake and Peninsula', 'Hawkins', 'Greenville', 'Chelan', 'Newport', 'Licking', 'Boone', 'Navajo', 'Mackinac', 'Butte', 'Corson', 'Hopkins', 'Ben Hill', 'Hudspeth', 'Gurabo', 'Tom Green', 'Dare', 'Iowa', 'Tishomingo', 'Ceiba', 'Vilas', 'Harding', 'Strafford', 'Keokuk', 'Red Lake', 'Mecosta', 'Cibola', 'Doniphan', 'Ulster', 'Lamoille', 'Alpena', 'Graves', 'El Paso', 'Schenectady', 'Avoyelles', 'Cavalier', 'Charlottesville', 'Solano', 'Dixon', 'Sterling', 'Beadle', 'Sabine', 'De Soto', 'Gloucester', 'Cuming', 'Muscatine', 'Hickman', 'Hancock', 'Albany', 'St. James', 'Noxubee', 'Hall', 'Barry', 'Leflore', 'Cata�o', 'Big Stone', 'San Sebasti�n', 'Crowley', 'Roger Mills', 'LaGrange', 'Caguas', 'Madera', 'Rabun', 'Bonner', 'Winchester', 'Crisp', 'Fort Bend', 'Wayne', 'Daggett', 'Coahoma', 'Del Norte', 'Tripp', 'Lampasas', 'Okanogan', 'Towns', 'Cassia', 'Cooper', 'Willacy', 'Baxter', 'Rockwall', 'Hinsdale', 'Todd', 'Columbia', 'Swain', 'Westchester', 'Guadalupe', 'Isle of Wight', 'Waushara', 'Alcona', 'Midland', 'Trimble', 'Caroline', 'San Lorenzo', 'Craig', 'Shelby', 'DuPage', 'Philadelphia', 'Medina', 'Little River', 'Ste. Genevieve', 'Bayfield', 'Androscoggin', 'Trigg', 'Olmsted', 'Chariton', 'Chittenden', 'Baker', 'Wallace', 'Genesee', 'Prentiss', 'Boundary', 'Volusia', 'Knott', 'Callaway', 'Ashland', 'Tama', 'Porter', 'Hamilton', 'Hunterdon', 'Pottawatomie', 'Malheur', 'Rensselaer', 'Valley', 'Charlotte', 'McHenry', 'Clarion', 'Spokane', 'St. John the Baptist', 'Karnes', 'Bergen', 'Greeley', 'Neshoba', 'Sabana Grande', 'Okaloosa', 'Osborne', 'Newberry', 'Rapides', 'Providence', 'Walton', 'Charles Mix', 'Coamo', 'Allegan', 'Edgefield', 'Vigo', 'Coos', 'Morris', 'Searcy', 'Highlands', 'Hennepin', 'Bureau', 'Grand', 'Nash', 'Early', 'McIntosh', 'Garvin', 'Black Hawk', 'Trego', 'Douglas', 'Maricao', 'Isabella', 'Osceola', 'Salinas', 'Holt', 'Story', 'Upshur', 'Norman', 'Rush', 'Echols', 'Vanderburgh', 'Granville', 'Benson', 'Socorro', 'Travis', 'Salt Lake', 'Roanoke', 'Craighead', 'Wilkinson', 'Hartford', 'Tulsa', 'St. Francis', 'Blue Earth', 'Murray', 'Snohomish', 'Randall', 'Kankakee', 'Waupaca', 'Robertson', 'Dodge', 'Custer', 'Claiborne', 'Wasco', 'Kennebec', 'Lee', 'Haralson', 'New York', 'Hutchinson', 'Borden', 'Gulf', 'San Jacinto', 'Antrim', 'McPherson', 'Garrett', 'Val Verde', 'Chesapeake', 'Cuyahoga', 'Carroll', 'Larimer', 'Roane', 'Carteret', 'Niagara', 'Harris', 'Colusa', 'Brown', 'Wexford', 'Lynchburg', 'Armstrong', 'Crittenden', 'Cheyenne', 'Kendall', 'Auglaize', 'Banner', 'Saluda', 'Garfield', 'Oldham', 'Monongalia', 'Marengo', 'Troup', 'Salem', 'Sebastian', 'Pitt', 'Archuleta', 'Kingfisher', 'Andrews', 'Fountain', 'Yakutat', 'Kanabec', 'East Carroll', 'Crenshaw', 'Weber', 'Williamsburg', 'Chilton', 'Eau Claire', 'Bulloch', 'Gilliam', 'McCormick', 'Lajas', 'Tippecanoe', 'Santa Isabel', 'Jersey', 'Banks', 'Dauphin', 'Burt', 'Lenawee', 'San Patricio', 'Delaware', 'Shenandoah', 'Glascock', 'Hampshire', 'Pickaway', 'Rockdale', 'Pitkin', 'Nolan', 'Clatsop', 'Irion', 'Hillsdale', 'Nye', 'Moca', 'Valencia', 'Dillingham', 'Oktibbeha', 'Logan', 'Presidio', 'Nez Perce', 'Renville', 'Hill', 'Harrison', 'Tuscola', 'Portsmouth', 'Kearny', 'Washoe', 'Rawlins', 'Washtenaw', 'Jim Wells', 'Pierce', 'Sweet Grass', 'Tyler', 'Kenedy', 'Nevada', 'Transylvania', 'Wilkin', 'Wolfe', 'Arecibo', 'Sanders']\n"
     ]
    }
   ],
   "source": [
    "features = data['features']    \n",
    "Unique_Names = set()\n",
    "for feature in features:\n",
    "    Properties = feature['properties']\n",
    "    Name = Properties[\"NAME\"]\n",
    "    Unique_Names.add(Name)\n",
    "\n",
    "Unique_Names = list(Unique_Names)\n",
    "print(Unique_Names)"
   ]
  },
  {
   "cell_type": "markdown",
   "id": "cd01533b",
   "metadata": {},
   "source": [
    "# Top 3 Most Common Counties "
   ]
  },
  {
   "cell_type": "code",
   "execution_count": 213,
   "id": "fbf6c3fa",
   "metadata": {},
   "outputs": [
    {
     "name": "stdout",
     "output_type": "stream",
     "text": [
      "{'Name': 1909}\n"
     ]
    }
   ],
   "source": [
    "## Attempt where I accidentally numbered the number of unique counties. Decided to keep\n",
    "def get_cntyDict(features):\n",
    "    cntyDict = {}\n",
    "    for i in Unique_Names: \n",
    "        if cntyDict.__contains__('Name'): \n",
    "            curVal = cntyDict.get('Name')\n",
    "            cntyDict.update({\"Name\": curVal + 1})\n",
    "        else:\n",
    "            cntyDict.update({\"Name\":1})\n",
    "        return cntyDict\n",
    "\n",
    "print(cntyDict)\n"
   ]
  },
  {
   "cell_type": "code",
   "execution_count": null,
   "id": "5b12eab4",
   "metadata": {},
   "outputs": [],
   "source": []
  },
  {
   "cell_type": "markdown",
   "id": "79a43d98",
   "metadata": {},
   "source": [
    "# Number of Total Counties in Each State"
   ]
  },
  {
   "cell_type": "code",
   "execution_count": 204,
   "id": "b8c87c92",
   "metadata": {},
   "outputs": [
    {
     "name": "stdout",
     "output_type": "stream",
     "text": [
      "{'02': 29, '04': 15, '05': 75, '08': 64, '09': 8, '12': 67, '13': 159, '06': 58, '01': 67, '17': 102, '18': 92, '19': 99, '15': 5, '16': 44, '20': 105, '21': 120, '22': 64, '26': 83, '27': 87, '28': 82, '23': 16, '24': 24, '25': 14, '30': 56, '31': 93, '32': 17, '33': 10, '34': 21, '35': 33, '29': 115, '37': 100, '38': 53, '39': 88, '40': 77, '36': 62, '45': 46, '46': 66, '47': 95, '41': 36, '42': 67, '48': 254, '49': 29, '53': 39, '54': 55, '55': 72, '56': 23, '72': 78, '50': 14, '51': 134, '10': 3, '11': 1, '44': 5}\n"
     ]
    }
   ],
   "source": [
    "def get_totals_comp(features): \n",
    "    totals = {}\n",
    "    for feature in features:\n",
    "        Properties = feature['properties']\n",
    "        state_no = Properties['STATE']\n",
    "        totals[state_no] = totals.get(state_no, 0) + 1\n",
    "\n",
    "    return totals\n",
    "print(totals)"
   ]
  },
  {
   "cell_type": "markdown",
   "id": "fd663421",
   "metadata": {},
   "source": [
    "# Largest and Smallest Counties in Each State by Area"
   ]
  },
  {
   "cell_type": "code",
   "execution_count": 196,
   "id": "0221307c",
   "metadata": {},
   "outputs": [
    {
     "name": "stdout",
     "output_type": "stream",
     "text": [
      "{'02': {'Largest County': {'name': 'Valdez-Cordova', 'area': 34239.88}, 'Smallest County': {'name': 'Skagway', 'area': 452.325}}, '04': {'Largest County': {'name': 'Cochise', 'area': 6165.69}, 'Smallest County': {'name': 'Navajo', 'area': 9950.422}}, '05': {'Largest County': {'name': 'Baxter', 'area': 554.283}, 'Smallest County': {'name': 'Lincoln', 'area': 561.517}}, '08': {'Largest County': {'name': 'Hinsdale', 'area': 1117.251}, 'Smallest County': {'name': 'Broomfield', 'area': 33.034}}, '09': {'Largest County': {'name': 'Tolland', 'area': 410.214}, 'Smallest County': {'name': 'New London', 'area': 664.878}}, '12': {'Largest County': {'name': 'Bay', 'area': 758.459}, 'Smallest County': {'name': 'Gilchrist', 'area': 349.677}}, '13': {'Largest County': {'name': 'Berrien', 'area': 451.897}, 'Smallest County': {'name': 'Baldwin', 'area': 257.844}}, '06': {'Largest County': {'name': 'Colusa', 'area': 1150.731}, 'Smallest County': {'name': 'San Francisco', 'area': 46.873}}, '01': {'Largest County': {'name': 'Autauga', 'area': 594.436}, 'Smallest County': {'name': 'Limestone', 'area': 559.936}}, '17': {'Largest County': {'name': 'Jasper', 'area': 494.51}, 'Smallest County': {'name': 'Hardin', 'area': 177.528}}, '18': {'Largest County': {'name': 'Benton', 'area': 406.418}, 'Smallest County': {'name': 'Adams', 'area': 339.028}}, '19': {'Largest County': {'name': 'Adair', 'area': 569.271}, 'Smallest County': {'name': 'Woodbury', 'area': 872.834}}, '15': {'Largest County': {'name': 'Maui', 'area': 1161.521}, 'Smallest County': {'name': 'Kalawao', 'area': 11.991}}, '16': {'Largest County': {'name': 'Benewah', 'area': 776.617}, 'Smallest County': {'name': 'Washington', 'area': 1452.982}}, '20': {'Largest County': {'name': 'Allen', 'area': 500.303}, 'Smallest County': {'name': 'Wyandotte', 'area': 151.6}}, '21': {'Largest County': {'name': 'Adair', 'area': 405.283}, 'Smallest County': {'name': 'Anderson', 'area': 201.832}}, '22': {'Largest County': {'name': 'Allen', 'area': 761.847}, 'Smallest County': {'name': 'St. Charles', 'area': 279.083}}, '26': {'Largest County': {'name': 'Gratiot', 'area': 568.464}, 'Smallest County': {'name': 'Benzie', 'area': 319.704}}, '27': {'Largest County': {'name': 'Benton', 'area': 408.301}, 'Smallest County': {'name': 'Carver', 'area': 354.325}}, '28': {'Largest County': {'name': 'Alcorn', 'area': 400.038}, 'Smallest County': {'name': 'Warren', 'area': 588.501}}, '23': {'Largest County': {'name': 'Aroostook', 'area': 6671.33}, 'Smallest County': {'name': 'Sagadahoc', 'area': 253.695}}, '24': {'Largest County': {'name': 'Allegany', 'area': 424.158}, 'Smallest County': {'name': 'Howard', 'area': 250.741}}, '25': {'Largest County': {'name': 'Berkshire', 'area': 926.825}, 'Smallest County': {'name': 'Nantucket', 'area': 44.97}}, '30': {'Largest County': {'name': 'Judith Basin', 'area': 1869.821}, 'Smallest County': {'name': 'Jefferson', 'area': 1656.257}}, '31': {'Largest County': {'name': 'Adams', 'area': 563.272}, 'Smallest County': {'name': 'Dakota', 'area': 264.255}}, '32': {'Largest County': {'name': 'Clark', 'area': 7891.431}, 'Smallest County': {'name': 'Carson City', 'area': 144.662}}, '33': {'Largest County': {'name': 'Coos', 'area': 1794.685}, 'Smallest County': {'name': 'Sullivan', 'area': 537.313}}, '34': {'Largest County': {'name': 'Ocean', 'area': 628.781}, 'Smallest County': {'name': 'Bergen', 'area': 233.009}}, '35': {'Largest County': {'name': 'Bernalillo', 'area': 1160.828}, 'Smallest County': {'name': 'Los Alamos', 'area': 109.167}}, '29': {'Largest County': {'name': 'Adair', 'area': 567.324}, 'Smallest County': {'name': 'Schuyler', 'area': 307.303}}, '37': {'Largest County': {'name': 'Union', 'area': 631.52}, 'Smallest County': {'name': 'Vance', 'area': 253.517}}, '38': {'Largest County': {'name': 'Barnes', 'area': 1491.554}, 'Smallest County': {'name': 'Williams', 'area': 2077.401}}, '39': {'Largest County': {'name': 'Allen', 'area': 402.496}, 'Smallest County': {'name': 'Erie', 'area': 251.558}}, '40': {'Largest County': {'name': 'Atoka', 'area': 975.517}, 'Smallest County': {'name': 'Greer', 'area': 639.324}}, '36': {'Largest County': {'name': 'Cayuga', 'area': 691.582}, 'Smallest County': {'name': 'Putnam', 'area': 230.312}}, '45': {'Largest County': {'name': 'Greenville', 'area': 785.12}, 'Smallest County': {'name': 'Calhoun', 'area': 381.151}}, '46': {'Largest County': {'name': 'Aurora', 'area': 708.425}, 'Smallest County': {'name': 'Day', 'area': 1027.868}}, '47': {'Largest County': {'name': 'Bedford', 'area': 473.635}, 'Smallest County': {'name': 'Cannon', 'area': 265.635}}, '41': {'Largest County': {'name': 'Crook', 'area': 2979.086}, 'Smallest County': {'name': 'Yamhill', 'area': 715.86}}, '42': {'Largest County': {'name': 'Beaver', 'area': 434.712}, 'Smallest County': {'name': 'Montour', 'area': 130.242}}, '48': {'Largest County': {'name': 'Glasscock', 'area': 900.218}, 'Smallest County': {'name': 'Gregg', 'area': 273.303}}, '49': {'Largest County': {'name': 'Iron', 'area': 3296.681}, 'Smallest County': {'name': 'Davis', 'area': 298.778}}, '53': {'Largest County': {'name': 'Kitsap', 'area': 394.941}, 'Smallest County': {'name': 'Wahkiakum', 'area': 263.375}}, '54': {'Largest County': {'name': 'Harrison', 'area': 416.008}, 'Smallest County': {'name': 'Barbour', 'area': 341.059}}, '55': {'Largest County': {'name': 'Adams', 'area': 645.646}, 'Smallest County': {'name': 'Calumet', 'area': 318.236}}, '56': {'Largest County': {'name': 'Campbell', 'area': 4802.709}, 'Smallest County': {'name': 'Washakie', 'area': 2238.549}}, '72': {'Largest County': {'name': 'Trujillo Alto', 'area': 20.764}, 'Smallest County': {'name': 'Aguas Buenas', 'area': 30.085}}, '50': {'Largest County': {'name': 'Bennington', 'area': 674.98}, 'Smallest County': {'name': 'Grand Isle', 'area': 81.811}}, '51': {'Largest County': {'name': 'Albemarle', 'area': 720.698}, 'Smallest County': {'name': 'Arlington', 'area': 25.974}}, '10': {'Largest County': {'name': 'Kent', 'area': 586.179}, 'Smallest County': {'name': 'Sussex', 'area': 936.079}}, '11': {'Largest County': {'name': 'District of Columbia', 'area': 61.048}, 'Smallest County': {'name': 'District of Columbia', 'area': 61.048}}, '44': {'Largest County': {'name': 'Providence', 'area': 409.502}, 'Smallest County': {'name': 'Bristol', 'area': 24.164}}}\n"
     ]
    }
   ],
   "source": [
    "def get_min_max_name(features):\n",
    "    min_max_name = {}\n",
    "    for feature in features:\n",
    "        properties = feature['properties']\n",
    "        state_no = properties['STATE']\n",
    "        county = properties['NAME']\n",
    "        census_area = properties['CENSUSAREA']\n",
    "\n",
    "        county = {\n",
    "        \"name\": county,\n",
    "        \"area\": census_area\n",
    "        }\n",
    "\n",
    "        if state_no in min_max_name:\n",
    "            state = min_max_name[state_no]\n",
    "\n",
    "            largest_county_area = state['Largest County']['area']\n",
    "            if county_area > largest_county_area:\n",
    "                state['Largest County'] = county\n",
    "\n",
    "            smallest_county_area = state['Smallest County']['area']\n",
    "            if county_area < smallest_county_area:\n",
    "                state['Smallest County'] = county\n",
    "        else:\n",
    "            state = {\n",
    "            \"Largest County\": county,\n",
    "            \"Smallest County\": county\n",
    "            }\n",
    "\n",
    "        min_max_name[state_no] = state\n",
    "\n",
    "    return min_max_name\n",
    "\n",
    "min_max_name = get_min_max_name(features)\n",
    "print(min_max_name)\n"
   ]
  },
  {
   "cell_type": "markdown",
   "id": "62cf4eaf",
   "metadata": {},
   "source": [
    "# Total and Average Area of Counties"
   ]
  },
  {
   "cell_type": "code",
   "execution_count": 216,
   "id": "941720e0",
   "metadata": {},
   "outputs": [
    {
     "name": "stdout",
     "output_type": "stream",
     "text": [
      "{'02': {'Total County Area': 34239.88, 'Average County Area': 1180.6855172413793, 'County Count': 29}, '04': {'Total County Area': 6165.69, 'Average County Area': 411.046, 'County Count': 15}, '05': {'Total County Area': 554.283, 'Average County Area': 7.39044, 'County Count': 75}, '08': {'Total County Area': 1117.251, 'Average County Area': 17.457046875, 'County Count': 64}, '09': {'Total County Area': 410.214, 'Average County Area': 51.27675, 'County Count': 8}, '12': {'Total County Area': 758.459, 'Average County Area': 11.320283582089552, 'County Count': 67}, '13': {'Total County Area': 257.844, 'Average County Area': 1.6216603773584906, 'County Count': 159}, '06': {'Total County Area': 1150.731, 'Average County Area': 19.840189655172413, 'County Count': 58}, '01': {'Total County Area': 594.436, 'Average County Area': 8.872179104477613, 'County Count': 67}, '17': {'Total County Area': 177.528, 'Average County Area': 1.740470588235294, 'County Count': 102}, '18': {'Total County Area': 339.028, 'Average County Area': 3.6850869565217392, 'County Count': 92}, '19': {'Total County Area': 569.271, 'Average County Area': 5.750212121212121, 'County Count': 99}, '15': {'Total County Area': 11.991, 'Average County Area': 2.3982, 'County Count': 5}, '16': {'Total County Area': 776.617, 'Average County Area': 17.65038636363636, 'County Count': 44}, '20': {'Total County Area': 151.6, 'Average County Area': 1.4438095238095237, 'County Count': 105}, '21': {'Total County Area': 405.283, 'Average County Area': 3.3773583333333335, 'County Count': 120}, '22': {'Total County Area': 761.847, 'Average County Area': 11.903859375, 'County Count': 64}, '26': {'Total County Area': 568.464, 'Average County Area': 6.848963855421688, 'County Count': 83}, '27': {'Total County Area': 408.301, 'Average County Area': 4.6931149425287355, 'County Count': 87}, '28': {'Total County Area': 400.038, 'Average County Area': 4.878512195121951, 'County Count': 82}, '23': {'Total County Area': 6671.33, 'Average County Area': 416.958125, 'County Count': 16}, '24': {'Total County Area': 424.158, 'Average County Area': 17.67325, 'County Count': 24}, '25': {'Total County Area': 926.825, 'Average County Area': 66.20178571428572, 'County Count': 14}, '30': {'Total County Area': 1869.821, 'Average County Area': 33.38966071428571, 'County Count': 56}, '31': {'Total County Area': 563.272, 'Average County Area': 6.056688172043011, 'County Count': 93}, '32': {'Total County Area': 7891.431, 'Average County Area': 464.20182352941174, 'County Count': 17}, '33': {'Total County Area': 1794.685, 'Average County Area': 179.4685, 'County Count': 10}, '34': {'Total County Area': 233.009, 'Average County Area': 11.095666666666666, 'County Count': 21}, '35': {'Total County Area': 1160.828, 'Average County Area': 35.17660606060606, 'County Count': 33}, '29': {'Total County Area': 567.324, 'Average County Area': 4.9332521739130435, 'County Count': 115}, '37': {'Total County Area': 631.52, 'Average County Area': 6.3152, 'County Count': 100}, '38': {'Total County Area': 1491.554, 'Average County Area': 28.142528301886795, 'County Count': 53}, '39': {'Total County Area': 402.496, 'Average County Area': 4.573818181818182, 'County Count': 88}, '40': {'Total County Area': 975.517, 'Average County Area': 12.66905194805195, 'County Count': 77}, '36': {'Total County Area': 691.582, 'Average County Area': 11.154548387096774, 'County Count': 62}, '45': {'Total County Area': 785.12, 'Average County Area': 17.067826086956522, 'County Count': 46}, '46': {'Total County Area': 708.425, 'Average County Area': 10.73371212121212, 'County Count': 66}, '47': {'Total County Area': 473.635, 'Average County Area': 4.985631578947368, 'County Count': 95}, '41': {'Total County Area': 2979.086, 'Average County Area': 82.75238888888889, 'County Count': 36}, '42': {'Total County Area': 434.712, 'Average County Area': 6.488238805970149, 'County Count': 67}, '48': {'Total County Area': 900.218, 'Average County Area': 3.5441653543307083, 'County Count': 254}, '49': {'Total County Area': 298.778, 'Average County Area': 10.302689655172415, 'County Count': 29}, '53': {'Total County Area': 394.941, 'Average County Area': 10.126692307692307, 'County Count': 39}, '54': {'Total County Area': 341.059, 'Average County Area': 6.201072727272728, 'County Count': 55}, '55': {'Total County Area': 645.646, 'Average County Area': 8.967305555555555, 'County Count': 72}, '56': {'Total County Area': 4802.709, 'Average County Area': 208.81343478260868, 'County Count': 23}, '72': {'Total County Area': 30.085, 'Average County Area': 0.3857051282051282, 'County Count': 78}, '50': {'Total County Area': 674.98, 'Average County Area': 48.212857142857146, 'County Count': 14}, '51': {'Total County Area': 720.698, 'Average County Area': 5.3783432835820895, 'County Count': 134}, '10': {'Total County Area': 586.179, 'Average County Area': 195.393, 'County Count': 3}, '11': {'Total County Area': 61.048, 'Average County Area': 61.048, 'County Count': 1}, '44': {'Total County Area': 24.164, 'Average County Area': 4.832800000000001, 'County Count': 5}}\n"
     ]
    }
   ],
   "source": [
    "def get_totalavg(features):\n",
    "    totalavg = {}\n",
    "    for feature in features:\n",
    "        properties = feature[\"properties\"]\n",
    "        state_no  = properties['STATE']\n",
    "        census_area = properties['CENSUSAREA']\n",
    "\n",
    "        if state_no in totalavg:\n",
    "            state = totalavg[state_no ]\n",
    "            state['Average County Area'] = state['Total County Area'] + census_area\n",
    "            state['County Count'] = state['County Count'] + 1\n",
    "            state['Average County Area'] = state['Total County Area'] / state['County Count']\n",
    "        else:\n",
    "            state = {\n",
    "            \"Total County Area\": census_area,\n",
    "            \"Average County Area\": census_area,\n",
    "            \"County Count\": 1\n",
    "            }\n",
    "        totalavg[state_no ] = state\n",
    "    return totalavg\n",
    "\n",
    "totalavg = get_totalavg(features)\n",
    "print(totalavg)"
   ]
  },
  {
   "cell_type": "code",
   "execution_count": null,
   "id": "092ffcb0",
   "metadata": {},
   "outputs": [],
   "source": []
  }
 ],
 "metadata": {
  "kernelspec": {
   "display_name": "Python 3 (ipykernel)",
   "language": "python",
   "name": "python3"
  },
  "language_info": {
   "codemirror_mode": {
    "name": "ipython",
    "version": 3
   },
   "file_extension": ".py",
   "mimetype": "text/x-python",
   "name": "python",
   "nbconvert_exporter": "python",
   "pygments_lexer": "ipython3",
   "version": "3.8.13"
  }
 },
 "nbformat": 4,
 "nbformat_minor": 5
}
