{
 "cells": [
  {
   "cell_type": "markdown",
   "id": "94873bfb",
   "metadata": {},
   "source": [
    "## Assignment 2 - GTECH731\n",
    "\n",
    "# Griztko Erickson"
   ]
  },
  {
   "cell_type": "markdown",
   "id": "a6f5c7b8",
   "metadata": {},
   "source": [
    "# Reading in Data"
   ]
  },
  {
   "cell_type": "code",
   "execution_count": 8,
   "id": "7bde2ac4-d6da-4a36-b605-d1ab8e490efa",
   "metadata": {},
   "outputs": [
    {
     "name": "stdout",
     "output_type": "stream",
     "text": [
      "Number of Counties in US: 3221\n"
     ]
    }
   ],
   "source": [
    "import io\n",
    "import time\n",
    "import requests, json \n",
    "url = \"https://eric.clst.org/assets/wiki/uploads/Stuff/gz_2010_us_050_00_5m.json\"\n",
    "\n",
    "with requests.get(url) as response:\n",
    "    data = response.json()\n",
    "    print('Number of Counties in US: ' + str(len(data['features'])))\n",
    "    "
   ]
  },
  {
   "cell_type": "markdown",
   "id": "b7352f56",
   "metadata": {},
   "source": [
    "# List of County names "
   ]
  },
  {
   "cell_type": "code",
   "execution_count": 9,
   "id": "b7d77b71-cbb7-4a69-9796-4ad01b9aa43c",
   "metadata": {},
   "outputs": [
    {
     "name": "stdout",
     "output_type": "stream",
     "text": [
      "['Fairbanks North Star', 'Kendall', 'Canyon', 'Burleson', 'Owyhee', 'Geary', 'Georgetown', 'Rowan', 'Martinsville', 'Yellow Medicine', 'Yancey', 'Colleton', 'Juneau', 'Hart', 'Burke', 'Tucker', 'Fairfield', 'Leflore', 'Stearns', 'Coles', 'Bannock', 'Okeechobee', 'Jerauld', 'Concordia', 'Mower', 'Coos', 'Lumpkin', 'Canadian', 'Screven', 'Dolores', 'Gregory', 'Asotin', 'Grainger', 'Cullman', 'Cowlitz', 'Appomattox', 'Ochiltree', 'Fulton', 'Kingsbury', 'Oregon', 'Amelia', 'Granite', 'Sunflower', 'Schleicher', 'Barrow', 'Jefferson', 'Cumberland', 'Dauphin', 'Salinas', 'Kootenai', 'Catawba', 'Maury', 'Morris', 'Dixie', 'Acadia', 'New London', 'Watauga', 'DeKalb', 'Otter Tail', 'Johnston', 'Ste. Genevieve', 'New Hanover', 'Calloway', 'Mackinac', 'Cape May', 'Bleckley', 'Fountain', 'Delaware', 'Burleigh', 'Judith Basin', 'Hemphill', 'Nelson', 'Faribault', 'Washtenaw', 'Bonneville', 'Daniels', 'Parker', 'Codington', 'Snyder', 'Mathews', 'Howell', 'Abbeville', 'Graham', 'Washoe', 'Pickett', 'Strafford', 'Calumet', 'Berrien', 'Silver Bow', 'Madison', 'Doddridge', 'Lea', 'Box Butte', 'Kinney', 'Norfolk', 'Reeves', 'Kossuth', 'Edgefield', 'Island', 'Midland', 'Skagit', 'St. Lucie', 'Radford', 'Roosevelt', 'Nottoway', 'Starke', 'Hinds', 'Rappahannock', 'Oklahoma', 'Whitley', 'Champaign', 'Menominee', 'Bear Lake', 'Childress', 'Ventura', 'Dixon', 'Keokuk', 'Ferry', 'Pe�uelas', 'Louisa', 'Potter', 'Tattnall', 'Iron', 'San Luis Obispo', 'Lorain', 'Hyde', 'Cayey', 'Latah', 'Langlade', 'Winchester', 'Washington', 'Hubbard', 'Fergus', 'Vilas', 'Deuel', 'Rockland', 'Lunenburg', 'Day', 'White', 'Wythe', 'Rockdale', 'Massac', 'Vermilion', 'Montour', 'Martin', 'Vigo', 'Lafourche', 'Churchill', 'Pamlico', 'Albany', 'Darke', 'Naguabo', 'Tangipahoa', 'Latimer', 'Craven', 'Perkins', 'Thurston', 'Do�a Ana', 'Torrance', 'Ringgold', 'Wharton', 'Brevard', 'Lajas', 'Rains', 'Mercer', 'Pasco', 'Yazoo', 'Bacon', 'Randolph', 'Blanco', 'Siskiyou', 'Bastrop', 'Eaton', 'Atchison', 'Pipestone', 'Androscoggin', 'Brazos', 'Willacy', 'Cottle', 'Pembina', 'Parmer', 'Crook', 'Hampden', 'Klickitat', 'Hawaii', 'Sandusky', 'Suwannee', 'Maricao', 'Neosho', 'Echols', 'St. Mary', 'Callahan', 'Pointe Coupee', 'Brewster', 'Walthall', 'McKean', 'Lenawee', 'Transylvania', 'Whitman', 'Dickinson', 'Hidalgo', 'Stutsman', 'Hooker', 'Coshocton', 'Broomfield', 'Collier', 'Edwards', 'Chittenden', 'New Castle', 'Boone', 'East Feliciana', 'Bradley', 'Cortland', 'Brown', 'Luce', 'Tuscaloosa', 'Noxubee', 'Bexar', 'Traill', 'Hitchcock', 'Cecil', 'Mecklenburg', 'Davison', 'Seminole', 'Moore', 'Prince of Wales-Hyder', 'Fluvanna', 'Bienville', 'Lancaster', 'Atkinson', 'Benzie', 'Hall', 'Bonner', 'Laclede', 'Dimmit', 'Montmorency', 'Newton', 'Union', 'San Juan', 'Mesa', 'Becker', 'Coosa', 'Vega Alta', 'Cameron', 'Sarpy', 'Henrico', 'Bullock', 'Guthrie', 'Renville', 'Ashley', 'Stokes', 'Kearny', 'Peach', 'Yamhill', 'Ontario', 'Posey', 'Rankin', 'Hand', 'Crittenden', 'Isle of Wight', 'Allen', 'Toa Alta', 'Providence', 'Okaloosa', 'Gloucester', 'Clarion', 'Cobb', 'Crenshaw', 'Hansford', 'Paulding', 'Kennebec', 'Dickens', 'Delta', 'Dubuque', 'Gem', 'Emmet', 'A�asco', 'Oxford', 'Ascension', 'Duval', 'Beckham', 'York', 'Goochland', 'Callaway', 'Spartanburg', 'Shenandoah', 'Ouray', 'Summers', 'Houston', 'Billings', 'Moody', 'Culebra', 'Burt', 'Archer', 'Yakima', 'Shackelford', 'Smyth', 'Sevier', 'Llano', 'Wyandotte', 'Grays Harbor', 'Otero', 'LaPorte', 'Davie', 'Belmont', 'Apache', 'Emporia', 'Kidder', 'Medina', 'Unicoi', 'Dane', 'Metcalfe', 'Nevada', 'Itasca', 'Hampton', 'Florence', 'Marshall', 'Morrill', 'Villalba', 'Marinette', 'Perry', 'Lassen', 'Accomack', 'Comanche', 'Walton', 'Yavapai', 'Labette', 'Rich', 'Preston', 'King', 'Richardson', 'Lackawanna', 'Currituck', 'Des Moines', 'Allegan', 'Santa Cruz', 'Gallia', 'Huerfano', 'Lycoming', 'Roscommon', 'Bergen', 'Passaic', 'Hot Springs', 'Upshur', 'Iosco', 'Gregg', 'Mingo', 'Banner', 'Montrose', 'Morton', 'St. Francis', 'Ogle', 'Clearwater', 'Perquimans', 'Eastland', 'Shawnee', 'Monmouth', 'Whitfield', 'Pershing', 'Catahoula', 'McDonald', 'Wabaunsee', 'Rolette', 'Mohave', \"St. Mary's\", 'Glenn', 'Goshen', 'McMullen', 'Sullivan', 'Lamoille', 'Whatcom', 'Essex', 'Kenton', 'Lyman', 'Little River', 'Benewah', 'Ponce', 'Rio Grande', 'Sagadahoc', 'Ziebach', 'George', 'Treutlen', 'Maverick', 'Graves', 'Kalawao', 'Lewis and Clark', 'Custer', 'Caribou', 'Laurel', 'Matanuska-Susitna', 'Carlisle', 'Coweta', 'Clarke', 'Pitkin', 'Iberia', 'Wilkes', 'Maries', 'Tallapoosa', 'Phillips', 'Bedford', 'Whiteside', 'Randall', 'Sanpete', 'Victoria', 'Chattahoochee', 'Hickory', 'Charles', 'Wirt', 'Howard', 'Roanoke', 'Kalamazoo', 'Rosebud', 'Columbia', 'Barry', 'Alleghany', 'Northwest Arctic', 'Grimes', 'Meigs', 'Moca', 'Bamberg', 'Decatur', 'Prairie', 'McHenry', 'Tolland', 'Navarro', 'Ontonagon', 'Saunders', 'Curry', 'Jasper', 'Chicot', 'Ohio', 'Arapahoe', 'Oneida', 'Ottawa', 'Colonial Heights', 'Porter', 'Frederick', 'Fallon', 'Moffat', 'Moultrie', 'Wibaux', 'Amador', 'Cottonwood', 'Black Hawk', 'Somervell', 'McIntosh', 'Los Alamos', 'Galveston', 'Cedar', 'Green Lake', 'Poinsett', 'Buffalo', 'Branch', 'Stanislaus', 'Chattooga', 'Ross', 'McCracken', 'Maricopa', 'San Miguel', 'Virginia Beach', 'Andrews', 'McCook', 'St. Tammany', 'Andrew', 'Orleans', 'Pleasants', 'Kern', 'Boyd', 'El Paso', 'Saguache', 'Sandoval', 'Oakland', 'Dillingham', 'Jim Hogg', 'Butte', 'Gilliam', 'Floyd', 'Larimer', 'Taos', 'Pike', 'Arlington', 'Ashtabula', 'Uvalde', 'Roger Mills', 'Morovis', 'Choctaw', 'Spink', 'Winston', 'Ector', 'Redwood', 'Osceola', 'Armstrong', 'Smith', 'Ozark', 'San Benito', 'Hendricks', 'Keya Paha', 'Bayam�n', 'Mineral', 'Menard', 'Riverside', 'Chowan', 'Bledsoe', 'Ramsey', 'Logan', 'Pinellas', 'Divide', 'Waseca', 'Hanson', 'San Augustine', 'Sioux', 'Glascock', 'Koochiching', 'Wilbarger', 'Oconee', 'Erath', 'Nemaha', 'Adjuntas', 'Miller', 'Parke', 'Lenoir', 'Lares', 'Vance', 'Mahoning', 'Sublette', 'Allegheny', 'Slope', 'Brunswick', 'Honolulu', 'Modoc', 'Ripley', 'Lanier', 'Greenlee', 'Wrangell', 'Goliad', 'Twiggs', 'Boundary', 'Red Willow', 'Autauga', 'Harper', 'Jenkins', 'Richmond', 'Cibola', 'Hood River', 'Keith', 'Stanly', 'Osborne', 'Brantley', 'Hennepin', 'Hocking', 'Josephine', 'Harris', 'Humphreys', 'Grand', 'Furnas', 'Lucas', 'Antrim', 'Fajardo', 'Horry', 'Placer', 'Pushmataha', 'Esmeralda', 'Liberty', 'Piatt', 'Beaver', 'Kankakee', 'Madera', 'St. James', 'Otoe', 'Lowndes', 'Alachua', 'Emery', 'Treasure', 'Ceiba', 'Terrebonne', 'Humacao', 'Terrell', 'Kane', 'Rockingham', 'Tensas', 'LaSalle', 'Wilkinson', 'Wade Hampton', 'Humboldt', 'Marin', 'Vieques', 'Leavenworth', 'San Sebasti�n', 'Chenango', 'Fillmore', 'Hardeman', 'Atoka', 'Dodge', 'Okmulgee', 'Sweetwater', 'Kings', 'Brooke', 'Caguas', 'Aguas Buenas', 'Robertson', 'Polk', 'Evans', 'Chaves', 'Wadena', 'Gentry', 'Ravalli', 'Jones', 'Rockwall', 'Buchanan', 'Baraga', 'Marion', 'Preble', 'Chippewa', 'Miner', 'Burlington', 'Thomas', 'Harding', 'Lee', 'New Madrid', 'Saluda', 'Gosper', 'Danville', 'Menifee', 'Wilson', 'Rio Arriba', 'Washita', 'Cochran', 'Yankton', 'Sherburne', 'McCurtain', 'Steuben', 'Wright', 'Outagamie', 'Woods', 'Red River', 'San Germ�n', 'Larue', 'Oscoda', 'Sharkey', 'Wake', 'Reynolds', 'King George', 'Cache', 'Carbon', 'Pasquotank', 'Salem', 'Park', 'Pacific', 'Mora', 'Karnes', 'Haines', 'Mellette', 'Hale', 'Niagara', 'Tama', 'Guilford', 'Garrard', 'Leslie', 'Cata�o', 'Hayes', 'Bollinger', 'Macomb', 'Petersburg', 'Matagorda', 'Coryell', 'Saginaw', 'Mifflin', 'Osage', 'Chariton', 'Wahkiakum', 'Garfield', 'Sanders', 'Bossier', 'Chisago', 'Cimarron', 'Kenosha', 'Iredell', 'Cocke', 'Archuleta', 'Calhoun', 'Kanabec', 'Jackson', 'Watonwan', 'West Carroll', 'Taylor', 'Kershaw', 'Escambia', 'Colbert', 'Maunabo', 'Hillsdale', 'Jay', 'Williams', 'Presque Isle', 'Wabasha', 'Yoakum', 'Pearl River', 'Craig', 'Cerro Gordo', 'Idaho', 'Hamlin', 'Tillman', 'Isabela', 'Guaynabo', 'Huron', 'Sully', 'Reagan', 'Calvert', 'Sumter', 'Golden Valley', 'Drew', 'Creek', 'Murray', 'Val Verde', 'Broward', 'Tarrant', 'Lake of the Woods', 'Kay', \"Queen Anne's\", 'Bee', 'Hinsdale', 'Oswego', 'Reno', 'Shoshone', 'Chautauqua', 'Spalding', 'Allendale', 'Denali', 'Mitchell', 'Pima', 'Dade', 'Grady', 'Bent', 'Charlotte', 'LaGrange', 'Lipscomb', 'McPherson', 'Tunica', 'Ford', 'Hunt', 'Boulder', 'Aiken', 'Miami', 'Darlington', 'Titus', 'Bucks', 'Kauai', 'Swift', 'Cannon', 'Lubbock', 'Natchitoches', 'Huntington', 'Daviess', 'Colquitt', 'Shawano', 'Winnebago', 'Kanawha', 'Izard', 'Lynn', 'Imperial', 'Dearborn', 'Evangeline', 'Mahnomen', 'Muscogee', 'Cooper', 'Dickson', 'Clare', 'San Bernardino', 'Barnwell', 'Ellis', 'Richland', 'Gage', 'Wichita', 'Tompkins', 'Bulloch', 'Clatsop', 'Chesterfield', 'Lonoke', 'Suffolk', 'Malheur', 'Quitman', 'Trego', 'Cassia', 'Austin', 'Pecos', 'Brookings', 'Fentress', 'Cass', 'Throckmorton', 'Live Oak', 'Linn', 'Tippah', 'Amherst', 'Milam', 'Ward', 'Sabine', 'Broome', 'Saline', 'Lapeer', 'Hernando', 'Gordon', 'Hopkins', 'Marlboro', 'Anoka', 'Salt Lake', 'Deschutes', 'Bosque', 'Caddo', 'Deer Lodge', 'Wapello', 'Hamblen', 'Chilton', 'Nance', 'Bladen', 'Lamb', 'San Lorenzo', 'Macon', 'Griggs', 'Winkler', 'Gates', 'Utah', 'Kimble', 'Wallace', 'Pinal', 'R�o Grande', 'Spencer', 'Hudson', 'Piute', 'Guayanilla', 'Defiance', 'Muscatine', 'Sampson', 'Yukon-Koyukuk', 'Falls Church', 'Leake', 'Hutchinson', 'Gonzales', 'North Slope', 'Portsmouth', 'Nowata', 'Butts', 'Dubois', 'Noble', 'Van Buren', 'Steele', 'Santa Clara', 'Talbot', 'Scotts Bluff', 'Jessamine', 'Hickman', 'Magoffin', 'McKinley', 'Columbus', 'Ionia', 'Amite', 'Simpson', 'Donley', 'Oglethorpe', 'Corozal', 'Cowley', 'La Crosse', 'Quebradillas', 'Irwin', 'Beltrami', 'Onslow', 'Appanoose', 'Barbour', 'Trousdale', 'Tuscarawas', 'Weakley', 'Brooks', 'Broadwater', 'St. Bernard', 'Umatilla', 'Mecosta', 'Vega Baja', 'Genesee', 'Anne Arundel', 'Coleman', 'Towner', 'Sanborn', 'Elko', 'Taliaferro', 'Lehigh', 'Orangeburg', 'Rinc�n', 'Pitt', 'Emmons', 'Jennings', 'Luna', 'Cotton', 'Dutchess', 'Hancock', 'Person', 'Barnes', 'Raleigh', 'Carson', 'Riley', 'Harrisonburg', 'Waller', 'Wise', 'Carver', 'Concho', 'Powhatan', 'Grafton', 'Vernon', 'Dundy', 'Hudspeth', 'Herkimer', 'Alcorn', 'San Mateo', 'Greenup', 'Athens', 'Avery', 'San Saba', 'Vinton', 'Leelanau', 'Borden', 'Bolivar', 'Nantucket', 'Tuscola', 'Greenville', 'Coconino', 'Jim Wells', 'Wheatland', 'Frontier', 'Kittitas', 'Gladwin', 'Alfalfa', 'Rockbridge', 'Schenectady', 'Bremer', 'Williamsburg', 'Scott', 'Flathead', 'Campbell', 'Harford', 'Long', 'Rock Island', 'Door', 'Southampton', 'Bland', 'Dunklin', 'Anchorage', 'Kosciusko', 'Sargent', 'Scioto', 'McCulloch', 'Kingfisher', 'Roberts', 'Beaufort', 'Cheyenne', 'Chesapeake', 'Juniata', 'Comal', 'Catoosa', 'Saratoga', 'Gasconade', 'Nodaway', 'Cape Girardeau', 'Kit Carson', 'Prowers', 'Millard', 'Faulkner', 'Worcester', 'Van Wert', 'Baca', 'Anson', 'Trujillo Alto', 'Panola', 'Storey', 'Fayette', 'Gibson', 'Sussex', 'Yates', 'Neshoba', 'Schuyler', 'Dickenson', 'Bartow', 'Eddy', 'Santa Rosa', 'Sanilac', 'Breathitt', 'Owen', 'Lo�za', 'De Witt', 'Newaygo', 'Morrison', 'Lawrence', 'Haralson', 'Sumner', 'Toa Baja', 'Frio', 'Alcona', 'Crane', 'Deaf Smith', 'Arroyo', 'Copiah', 'Le Sueur', 'Arkansas', 'Coal', 'Stoddard', 'Mayag�ez', 'Clay', 'McLennan', 'Edgar', 'Tishomingo', 'Itawamba', 'Sonoma', 'Warren', 'Edgecombe', 'Macoupin', 'Pennington', 'Converse', 'Ingham', 'Upton', 'Otsego', 'Loudon', 'Audubon', 'Socorro', 'Jayuya', 'Jewell', 'Hartley', 'Philadelphia', 'Highlands', 'Bristol Bay', 'Heard', 'Clinton', 'Alger', 'Clermont', 'Prince Edward', 'Baxter', 'Dooly', 'Routt', 'Montgomery', 'Giles', 'Cross', 'Tippecanoe', 'Toombs', 'Chelan', 'Payette', 'Uintah', 'Nash', 'Carroll', 'Barranquitas', 'Minnehaha', 'Big Horn', 'Cidra', 'Dewey', 'Putnam', 'Casey', 'Seneca', 'Wabash', 'Chaffee', 'Williamson', 'Attala', 'Wells', 'Rawlins', 'Lake', 'Orange', 'Pickens', 'Sherman', 'Butler', 'Christian', 'Wasco', 'Blount', 'Plaquemines', 'Freestone', 'Bronx', 'Bracken', 'Geauga', 'Middlesex', 'Harney', 'Nicollet', 'Hood', 'Oktibbeha', 'Gratiot', 'Eau Claire', 'Racine', 'Lane', 'Daggett', 'Southeast Fairbanks', 'Corson', 'Skamania', 'Missoula', 'Crowley', 'Cuming', 'Glacier', 'Petroleum', 'Jerome', 'Angelina', 'Valdez-Cordova', 'Dyer', 'Montcalm', 'Rhea', 'Real', 'St. Joseph', 'Harnett', 'Habersham', 'Wyoming', 'St. Clair', 'Alamosa', 'Alameda', 'Yalobusha', 'Manat�', 'Isanti', 'Toole', 'Arenac', 'Wyandot', 'Haskell', 'Tulsa', 'San Diego', 'Shelby', 'Kerr', 'Sierra', 'Cheboygan', 'Seward', 'Orocovis', 'District of Columbia', 'Hampshire', 'Litchfield', 'Pawnee', 'Northumberland', 'Gogebic', 'Kenedy', 'Merced', 'Bandera', 'Platte', 'Schoolcraft', 'Sibley', 'Tyrrell', 'Cook', 'Assumption', 'Blue Earth', 'Baker', 'Albemarle', 'Morgan', 'Stephenson', 'Culberson', 'Stanley', 'Oceana', 'Windham', 'Teton', 'Todd', 'Centre', 'Dale', 'Crow Wing', 'Pondera', 'Anderson', 'Walsh', 'Pickaway', 'Doniphan', 'Upson', 'Dallas', 'Spokane', 'Florida', 'Meagher', 'Tioga', 'Brule', 'Gooding', 'Bureau', 'Avoyelles', 'Susquehanna', 'Maui', 'Grenada', 'Bell', 'El Dorado', 'Caledonia', 'Isabella', 'Wasatch', 'Loudoun', 'Pettis', 'Le Flore', 'Arecibo', 'Independence', 'Wilkin', 'Kenai Peninsula', 'Geneva', 'Aroostook', 'Cavalier', 'New Haven', 'Coke', 'Gillespie', 'Rogers', 'La Salle', 'Hartford', 'Pulaski', 'Fresno', 'Swain', 'Holt', 'Nobles', 'Rapides', 'St. Helena', 'Shiawassee', 'Conecuh', 'Rutland', 'Guernsey', 'Charlottesville', 'Aurora', 'Cabell', 'Belknap', 'Guayama', 'Grand Isle', 'Stanton', 'Charles City', 'Kaufman', 'Northampton', 'DeWitt', 'Claiborne', 'Plumas', 'Meade', 'Staunton', 'Elbert', 'Mississippi', 'Olmsted', 'Davidson', 'Chickasaw', 'Young', 'Yadkin', 'Blair', 'Rockcastle', 'Morehouse', 'Hoonah-Angoon', 'Hardee', 'Woodruff', 'Bath', 'Nez Perce', 'McDowell', 'Burnet', 'Nolan', 'St. Landry', 'Caswell', 'Wagoner', 'Santa Isabel', 'San Patricio', 'Effingham', 'Bristol', 'DeSoto', 'Dillon', 'Bay', 'Tipton', 'Ouachita', 'Lampasas', 'Comer�o', 'Lebanon', 'Skagway', 'Appling', 'San Joaquin', 'Walla Walla', 'Coffee', 'Candler', 'Cascade', 'St. Lawrence', 'Travis', 'Manassas', 'Tom Green', 'Lafayette', 'Marquette', 'Boise', 'Oconto', 'Aibonito', 'Mahaska', 'Bennett', 'Boyle', 'Baltimore', 'Scotland', 'Aleutians West', 'Elmore', 'Hawkins', 'Owsley', 'Gila', 'Desha', 'Gu�nica', 'Moniteau', 'Wolfe', 'Mariposa', 'Citrus', 'Ray', 'Gadsden', 'Calaveras', 'Jo Daviess', 'Henderson', 'Letcher', 'Inyo', 'Lincoln', 'Bayfield', 'Prince George', 'Gray', 'Juab', 'San Jacinto', 'Auglaize', 'Woodbury', 'St. Johns', 'Ashland', 'Augusta', 'St. Martin', 'Loving', 'Presidio', 'Cole', 'Klamath', 'Ben Hill', 'Collin', 'Bradford', 'Ogemaw', 'Barber', 'Gulf', 'Bingham', 'Cayuga', 'Ware', 'Winn', 'Poquoson', 'Dunn', 'Hodgeman', 'Crockett', 'Gallatin', 'Catron', 'Sterling', 'Westmoreland', 'Piscataquis', 'Ocean', 'Meeker', 'Denver', 'Yuba', 'Mountrail', 'Gilmer', 'Niobrara', 'Yakutat', 'East Carroll', 'Page', 'Charlton', 'Braxton', 'Kalkaska', 'Nome', 'Harvey', 'Fredericksburg', 'Garrett', 'Westchester', 'Addison', 'Tripp', 'Ciales', 'Sequoyah', 'Yell', 'Hopewell', 'Penobscot', 'Rusk', 'Limestone', 'Guadalupe', 'Dawes', 'Sebastian', 'Vanderburgh', 'Camuy', 'Granville', 'Weld', 'Beaverhead', 'Wexford', 'Burnett', 'Kitsap', 'Carson City', 'McDuffie', 'Fleming', 'Cherry', 'Sedgwick', 'Fremont', 'St. Francois', 'Bowie', 'Barren', 'Kittson', 'McLeod', 'Las Animas', 'Vermillion', 'Marathon', 'Sarasota', 'Story', 'Lamar', 'Cherokee', 'Juncos', 'Taney', 'Hettinger', 'Sutter', 'Hillsborough', 'Sitka', 'Clackamas', 'Livingston', 'Cleveland', 'Zavala', 'Yuma', 'McNairy', 'Cleburne', 'Winneshiek', 'Clear Creek', 'Ketchikan Gateway', 'Arthur', 'Wicomico', 'Loup', 'San Francisco', 'Roane', 'Fond du Lac', 'Emanuel', 'Carlton', 'Pottawatomie', 'La Plata', 'Elk', 'Wetzel', 'Kandiyohi', 'Kent', 'Obion', 'Chase', 'Aitkin', 'Aguada', 'Mills', 'Marengo', 'Pemiscot', 'Ashe', 'Gwinnett', 'Pottawattamie', 'Finney', 'Iowa', 'Weston', 'Barceloneta', 'Erie', 'Hill', 'Covington', 'Montague', 'Fannin', 'Hormigueros', 'Weber', 'Sutton', 'Schley', 'Shannon', 'Tazewell', 'Wheeler', 'Chatham', 'Kemper', 'Hockley', 'Clarendon', 'Pocahontas', 'Schoharie', 'Breckinridge', 'St. Croix', 'Warrick', 'Searcy', 'Greeley', 'Botetourt', 'Gunnison', 'Sawyer', 'Dorado', 'Terry', 'St. John the Baptist', 'Henry', 'Kewaunee', 'Blaine', 'Kingman', 'Valencia', 'Pope', 'Cambria', 'Roseau', 'Sheboygan', 'Runnels', 'Clearfield', 'Thayer', 'Naranjito', 'Sangamon', 'Harlan', 'Grant', 'Early', 'Gilpin', 'Caldwell', 'Somerset', 'Rutherford', 'Greensville', 'Milwaukee', 'Palo Pinto', 'McMinn', 'Laramie', 'Haakon', 'Mason', 'Denton', 'Sequatchie', 'Love', 'Greenbrier', 'Allamakee', 'Greer', 'Starr', 'Stevens', 'Ada', 'Snohomish', 'Merrimack', 'Muhlenberg', 'Rush', 'Mayes', 'Baldwin', 'Nacogdoches', 'Highland', 'Hamilton', 'Pierce', 'Caroline', 'Buncombe', 'Rio Blanco', 'Hunterdon', 'Bates', 'Montezuma', 'Tulare', 'Hughes', 'King and Queen', 'Norton', 'Pueblo', 'Sharp', 'Laurens', 'Fall River', 'Dent', 'Lavaca', 'White Pine', 'Bond', 'Swisher', 'Pendleton', 'Plymouth', 'Stafford', 'Jack', 'Hanover', 'Hot Spring', 'Sheridan', 'Washburn', 'Lexington', 'Cochise', 'Duplin', 'Woodward', 'Meriwether', 'Haywood', 'Navajo', 'Monona', 'Dorchester', 'Pontotoc', 'Phelps', 'Dallam', 'Manitowoc', 'Stephens', 'Newberry', 'Tuolumne', 'Dakota', 'Buckingham', 'Crosby', 'Benson', 'Luquillo', 'Dare', 'Falls', 'McCormick', 'Los Angeles', 'McCone', 'Onondaga', 'West Baton Rouge', 'Flagler', 'Rock', 'Jeff Davis', 'Worth', 'Garden', 'Camp', 'Levy', 'Faulk', 'Barron', 'Cloud', 'Monroe', 'Oldham', 'Bourbon', 'Brazoria', 'Hoke', 'Monterey', 'Glynn', 'De Baca', 'Utuado', 'Atlantic', 'Power', 'Hendry', 'Muskogee', 'Uinta', 'Surry', 'Ulster', 'Rooks', 'St. Charles', 'Oliver', 'McDonough', 'Harmon', 'Lake and Peninsula', 'Costilla', 'Garvin', 'Davis', 'Mendocino', 'Ballard', 'Missaukee', 'Blackford', 'Bethel', 'Woodson', 'Nueces', 'McCreary', 'Mobile', 'Estill', 'Conejos', 'Jersey', 'Poweshiek', 'Franklin', 'Portage', 'Pittsylvania', 'Ozaukee', 'Trigg', 'DuPage', 'Coamo', 'Mille Lacs', 'Valley', 'Greene', 'Coahoma', 'New York', 'Green', 'Hempstead', 'Muskegon', 'Adams', 'Bowman', 'Stark', 'Volusia', 'Freeborn', 'Luzerne', 'Wayne', 'Patrick', 'Contra Costa', 'Culpeper', 'Quay', 'Pender', 'Nicholas', 'Sweet Grass', 'Iroquois', 'Bullitt', 'Waukesha', 'Grundy', 'Johnson', 'Winona', 'Kimball', 'Venango', 'Hardy', 'Stonewall', 'Las Mar�as', 'Etowah', 'Alexander', 'Fairfax', 'Bartholomew', 'Audrain', 'Windsor', 'Kiowa', 'Yellowstone', 'Refugio', 'Duchesne', 'Douglas', 'Rice', 'Crisp', 'Goodhue', 'Cooke', 'East Baton Rouge', 'Irion', 'Trimble', 'Atascosa', 'Miami-Dade', 'Aguadilla', 'Motley', 'Kearney', 'Ransom', 'Carolina', 'Tallahatchie', 'Multnomah', 'Berkeley', 'Bryan', 'Wallowa', 'King William', 'Lewis', 'Gilchrist', 'Wilcox', 'Jefferson Davis', 'Glades', 'Dougherty', 'Newport News', 'Palo Alto', 'New Kent', 'Barnstable', 'Price', 'Webster', 'Aransas', 'Forsyth', 'Trempealeau', 'Carteret', 'Clayton', 'Buena Vista', 'Robeson', 'Alamance', 'Sauk', 'Telfair', 'Schuylkill', \"Prince George's\", 'Payne', 'Knott', 'Gaines', 'Cabarrus', 'Knox', 'Iberville', 'Clallam', 'Stewart', 'Sac', 'Stillwater', 'Conway', 'Alpena', 'Troup', 'Sacramento', 'Collingsworth', 'Fisher', 'St. Louis', 'Powder River', 'Okfuskee', 'Manistee', 'Talladega', 'De Soto', 'Stone', 'Holmes', 'Bibb', 'Okanogan', 'Camden', 'Mono', 'Ritchie', 'Alexandria', 'Zapata', 'Aleutians East', 'Manassas Park', 'Issaquena', 'Waynesboro', 'Scurry', 'Gaston', 'Adair', 'Hertford', 'Indian River', 'Major', 'Dinwiddie', 'LaMoure', 'Halifax', 'Waldo', 'Bennington', 'Leon', 'Allegany', 'Will', 'Box Elder', 'Pittsburg', 'Crawford', 'Eagle', 'Cuyahoga', 'Ness', 'Cheatham', 'Pine', 'Colusa', 'Durham', 'Foster', 'Washakie', 'Cattaraugus', 'Carter', 'Big Stone', \"O'Brien\", 'Walworth', 'Tooele', 'Queens', 'Ralls', 'Chemung', 'James City', 'Van Zandt', 'Bailey', 'Merrick', 'Trumbull', 'Hays', 'Calcasieu', 'Newport', 'Beauregard', 'Chester', 'Towns', 'Huntingdon', 'Charleston', 'Peoria', 'Monongalia', 'Tift', 'Minidoka', 'Sabana Grande', 'Alpine', 'Muskingum', 'Indiana', 'Grayson', 'Banks', 'Foard', 'Texas', 'Pepin', 'Webb', 'Trinity', 'Can�vanas', 'Lemhi', 'Chouteau', 'Musselshell', 'Powell', 'Colfax', 'Tehama', 'Harrison', 'Santa Fe', 'Castro', 'Dukes', 'Ellsworth', 'Baylor', 'Tyler', 'Gurabo', 'Edmunds', 'Russell', 'Keweenaw', 'Benton', 'Traverse', 'Cheshire', 'Galax', 'Columbiana', 'Fauquier', 'Las Piedras', 'Charles Mix', 'Del Norte', 'Barton', 'Nuckolls', 'Chambers', 'Forest', 'Gove', 'Houghton', 'Norman', 'Edmonson', 'Licking', 'Rensselaer', 'McClain', 'Waushara', 'Summit', 'Coffey', 'Switzerland', 'Yolo', 'Wakulla', 'Ida', 'Hardin', 'Nassau', 'Charlevoix', 'Palm Beach', 'Nye', 'Colorado', 'Woodford', 'Briscoe', 'McKenzie', 'Kleberg', 'La Paz', 'Overton', 'Lynchburg', 'Fort Bend', 'Shasta', 'Patillas', 'Garland', 'Clark', 'Bon Homme', 'Republic', 'Greenwood', 'Bottineau', 'Antelope', 'Teller', 'Dickey', 'Tate', 'Yauco', 'Wood', 'Natrona', 'Waupaca', 'Hatillo', 'Manatee', 'Santa Barbara', 'Napa', 'Garza', 'Lauderdale', 'Lyon', 'Turner', 'Bertie', 'West Feliciana', 'McLean', 'Forrest', 'Clinch', 'Spotsylvania', 'Lander', 'Walker', 'Red Lake', 'Twin Falls', 'Camas', 'Pend Oreille', 'Berks', 'Pratt', 'Cabo Rojo', 'Lac qui Parle', 'Grand Forks', 'Prentiss', 'Elliott', 'Solano', 'Craighead', 'Prince William', 'Berkshire', 'Glasscock', 'Juana D�az', 'Kodiak Island', 'Elkhart', 'Morrow', 'Tillamook', 'Grand Traverse', 'Eureka', 'Bernalillo', 'Rabun', 'Beadle', 'Yabucoa', 'Dawson']\n"
     ]
    }
   ],
   "source": [
    "features = data['features']    \n",
    "Unique_Names = set()\n",
    "for feature in features:\n",
    "    Properties = feature['properties']\n",
    "    Name = Properties[\"NAME\"]\n",
    "    Unique_Names.add(Name)\n",
    "\n",
    "Unique_Names = list(Unique_Names)\n",
    "print(Unique_Names)"
   ]
  },
  {
   "cell_type": "markdown",
   "id": "55c275b4",
   "metadata": {},
   "source": [
    "# Top 3 Most Common Counties "
   ]
  },
  {
   "cell_type": "code",
   "execution_count": 20,
   "id": "5b12eab4",
   "metadata": {},
   "outputs": [
    {
     "name": "stdout",
     "output_type": "stream",
     "text": [
      "{'Washington': 32, 'Franklin': 27, 'Jefferson': 27}\n"
     ]
    }
   ],
   "source": [
    "cntyDict = {}\n",
    "for f in features:\n",
    "    dict_name = f['properties']['NAME']\n",
    "    if cntyDict.get(dict_name) is None:\n",
    "        cntyDict.update({dict_name:1})\n",
    "    else:\n",
    "        pass\n",
    "\n",
    "\n",
    "namelist = []\n",
    "for f in features:\n",
    "    county_name = f['properties']['NAME']\n",
    "    namelist.append(county_name)\n",
    "\n",
    "\n",
    "for new_name in namelist:\n",
    "    if new_name in cntyDict:\n",
    "        cntyDict[new_name] +=1\n",
    "    else:\n",
    "        cntyDict[new_name] = 1\n",
    "\n",
    "\n",
    "sorted_new_list = sorted(cntyDict.items(), key=lambda x:x[1], reverse=True)\n",
    "top_new_list = sorted_new_list[0:3]\n",
    "converted_newdict = dict(top_new_list)\n",
    "print(converted_newdict)"
   ]
  },
  {
   "cell_type": "markdown",
   "id": "cb2040e5",
   "metadata": {},
   "source": [
    "# Number of Total Counties in Each State"
   ]
  },
  {
   "cell_type": "code",
   "execution_count": 204,
   "id": "b8c87c92",
   "metadata": {},
   "outputs": [
    {
     "name": "stdout",
     "output_type": "stream",
     "text": [
      "{'02': 29, '04': 15, '05': 75, '08': 64, '09': 8, '12': 67, '13': 159, '06': 58, '01': 67, '17': 102, '18': 92, '19': 99, '15': 5, '16': 44, '20': 105, '21': 120, '22': 64, '26': 83, '27': 87, '28': 82, '23': 16, '24': 24, '25': 14, '30': 56, '31': 93, '32': 17, '33': 10, '34': 21, '35': 33, '29': 115, '37': 100, '38': 53, '39': 88, '40': 77, '36': 62, '45': 46, '46': 66, '47': 95, '41': 36, '42': 67, '48': 254, '49': 29, '53': 39, '54': 55, '55': 72, '56': 23, '72': 78, '50': 14, '51': 134, '10': 3, '11': 1, '44': 5}\n"
     ]
    }
   ],
   "source": [
    "def get_totals_comp(features): \n",
    "    totals = {}\n",
    "    for feature in features:\n",
    "        Properties = feature['properties']\n",
    "        state_no = Properties['STATE']\n",
    "        totals[state_no] = totals.get(state_no, 0) + 1\n",
    "\n",
    "    return totals\n",
    "print(totals)"
   ]
  },
  {
   "cell_type": "code",
   "execution_count": 242,
   "id": "02ff74ec",
   "metadata": {},
   "outputs": [],
   "source": [
    "def county_comp(county_props_list, key_prop):\n",
    "    county_comp = {}\n",
    "\n",
    "    #create a set of all the unique values of key_prop\n",
    "    unique_props = set([county[key_prop] for county in county_props_list])\n",
    "    \n",
    "    #initialize dictionary with unique values as keys and empty lists as values\n",
    "    for unique_prop in unique_props:\n",
    "        county_comp[unique_prop] = []\n",
    "\n",
    "    #update the values for each key in the dict\n",
    "    for county in county_props_list:\n",
    "        #append the properties dict of the current county to the value of the appropriate agg_dict key\n",
    "        county_comp[county[key_prop]].append(county)\n",
    "    \n",
    "    return county_comp"
   ]
  },
  {
   "cell_type": "markdown",
   "id": "cd3e8ae0",
   "metadata": {},
   "source": [
    "# Largest and Smallest Counties in Each State by Area"
   ]
  },
  {
   "cell_type": "code",
   "execution_count": 196,
   "id": "0221307c",
   "metadata": {},
   "outputs": [
    {
     "name": "stdout",
     "output_type": "stream",
     "text": [
      "{'02': {'Largest County': {'name': 'Valdez-Cordova', 'area': 34239.88}, 'Smallest County': {'name': 'Skagway', 'area': 452.325}}, '04': {'Largest County': {'name': 'Cochise', 'area': 6165.69}, 'Smallest County': {'name': 'Navajo', 'area': 9950.422}}, '05': {'Largest County': {'name': 'Baxter', 'area': 554.283}, 'Smallest County': {'name': 'Lincoln', 'area': 561.517}}, '08': {'Largest County': {'name': 'Hinsdale', 'area': 1117.251}, 'Smallest County': {'name': 'Broomfield', 'area': 33.034}}, '09': {'Largest County': {'name': 'Tolland', 'area': 410.214}, 'Smallest County': {'name': 'New London', 'area': 664.878}}, '12': {'Largest County': {'name': 'Bay', 'area': 758.459}, 'Smallest County': {'name': 'Gilchrist', 'area': 349.677}}, '13': {'Largest County': {'name': 'Berrien', 'area': 451.897}, 'Smallest County': {'name': 'Baldwin', 'area': 257.844}}, '06': {'Largest County': {'name': 'Colusa', 'area': 1150.731}, 'Smallest County': {'name': 'San Francisco', 'area': 46.873}}, '01': {'Largest County': {'name': 'Autauga', 'area': 594.436}, 'Smallest County': {'name': 'Limestone', 'area': 559.936}}, '17': {'Largest County': {'name': 'Jasper', 'area': 494.51}, 'Smallest County': {'name': 'Hardin', 'area': 177.528}}, '18': {'Largest County': {'name': 'Benton', 'area': 406.418}, 'Smallest County': {'name': 'Adams', 'area': 339.028}}, '19': {'Largest County': {'name': 'Adair', 'area': 569.271}, 'Smallest County': {'name': 'Woodbury', 'area': 872.834}}, '15': {'Largest County': {'name': 'Maui', 'area': 1161.521}, 'Smallest County': {'name': 'Kalawao', 'area': 11.991}}, '16': {'Largest County': {'name': 'Benewah', 'area': 776.617}, 'Smallest County': {'name': 'Washington', 'area': 1452.982}}, '20': {'Largest County': {'name': 'Allen', 'area': 500.303}, 'Smallest County': {'name': 'Wyandotte', 'area': 151.6}}, '21': {'Largest County': {'name': 'Adair', 'area': 405.283}, 'Smallest County': {'name': 'Anderson', 'area': 201.832}}, '22': {'Largest County': {'name': 'Allen', 'area': 761.847}, 'Smallest County': {'name': 'St. Charles', 'area': 279.083}}, '26': {'Largest County': {'name': 'Gratiot', 'area': 568.464}, 'Smallest County': {'name': 'Benzie', 'area': 319.704}}, '27': {'Largest County': {'name': 'Benton', 'area': 408.301}, 'Smallest County': {'name': 'Carver', 'area': 354.325}}, '28': {'Largest County': {'name': 'Alcorn', 'area': 400.038}, 'Smallest County': {'name': 'Warren', 'area': 588.501}}, '23': {'Largest County': {'name': 'Aroostook', 'area': 6671.33}, 'Smallest County': {'name': 'Sagadahoc', 'area': 253.695}}, '24': {'Largest County': {'name': 'Allegany', 'area': 424.158}, 'Smallest County': {'name': 'Howard', 'area': 250.741}}, '25': {'Largest County': {'name': 'Berkshire', 'area': 926.825}, 'Smallest County': {'name': 'Nantucket', 'area': 44.97}}, '30': {'Largest County': {'name': 'Judith Basin', 'area': 1869.821}, 'Smallest County': {'name': 'Jefferson', 'area': 1656.257}}, '31': {'Largest County': {'name': 'Adams', 'area': 563.272}, 'Smallest County': {'name': 'Dakota', 'area': 264.255}}, '32': {'Largest County': {'name': 'Clark', 'area': 7891.431}, 'Smallest County': {'name': 'Carson City', 'area': 144.662}}, '33': {'Largest County': {'name': 'Coos', 'area': 1794.685}, 'Smallest County': {'name': 'Sullivan', 'area': 537.313}}, '34': {'Largest County': {'name': 'Ocean', 'area': 628.781}, 'Smallest County': {'name': 'Bergen', 'area': 233.009}}, '35': {'Largest County': {'name': 'Bernalillo', 'area': 1160.828}, 'Smallest County': {'name': 'Los Alamos', 'area': 109.167}}, '29': {'Largest County': {'name': 'Adair', 'area': 567.324}, 'Smallest County': {'name': 'Schuyler', 'area': 307.303}}, '37': {'Largest County': {'name': 'Union', 'area': 631.52}, 'Smallest County': {'name': 'Vance', 'area': 253.517}}, '38': {'Largest County': {'name': 'Barnes', 'area': 1491.554}, 'Smallest County': {'name': 'Williams', 'area': 2077.401}}, '39': {'Largest County': {'name': 'Allen', 'area': 402.496}, 'Smallest County': {'name': 'Erie', 'area': 251.558}}, '40': {'Largest County': {'name': 'Atoka', 'area': 975.517}, 'Smallest County': {'name': 'Greer', 'area': 639.324}}, '36': {'Largest County': {'name': 'Cayuga', 'area': 691.582}, 'Smallest County': {'name': 'Putnam', 'area': 230.312}}, '45': {'Largest County': {'name': 'Greenville', 'area': 785.12}, 'Smallest County': {'name': 'Calhoun', 'area': 381.151}}, '46': {'Largest County': {'name': 'Aurora', 'area': 708.425}, 'Smallest County': {'name': 'Day', 'area': 1027.868}}, '47': {'Largest County': {'name': 'Bedford', 'area': 473.635}, 'Smallest County': {'name': 'Cannon', 'area': 265.635}}, '41': {'Largest County': {'name': 'Crook', 'area': 2979.086}, 'Smallest County': {'name': 'Yamhill', 'area': 715.86}}, '42': {'Largest County': {'name': 'Beaver', 'area': 434.712}, 'Smallest County': {'name': 'Montour', 'area': 130.242}}, '48': {'Largest County': {'name': 'Glasscock', 'area': 900.218}, 'Smallest County': {'name': 'Gregg', 'area': 273.303}}, '49': {'Largest County': {'name': 'Iron', 'area': 3296.681}, 'Smallest County': {'name': 'Davis', 'area': 298.778}}, '53': {'Largest County': {'name': 'Kitsap', 'area': 394.941}, 'Smallest County': {'name': 'Wahkiakum', 'area': 263.375}}, '54': {'Largest County': {'name': 'Harrison', 'area': 416.008}, 'Smallest County': {'name': 'Barbour', 'area': 341.059}}, '55': {'Largest County': {'name': 'Adams', 'area': 645.646}, 'Smallest County': {'name': 'Calumet', 'area': 318.236}}, '56': {'Largest County': {'name': 'Campbell', 'area': 4802.709}, 'Smallest County': {'name': 'Washakie', 'area': 2238.549}}, '72': {'Largest County': {'name': 'Trujillo Alto', 'area': 20.764}, 'Smallest County': {'name': 'Aguas Buenas', 'area': 30.085}}, '50': {'Largest County': {'name': 'Bennington', 'area': 674.98}, 'Smallest County': {'name': 'Grand Isle', 'area': 81.811}}, '51': {'Largest County': {'name': 'Albemarle', 'area': 720.698}, 'Smallest County': {'name': 'Arlington', 'area': 25.974}}, '10': {'Largest County': {'name': 'Kent', 'area': 586.179}, 'Smallest County': {'name': 'Sussex', 'area': 936.079}}, '11': {'Largest County': {'name': 'District of Columbia', 'area': 61.048}, 'Smallest County': {'name': 'District of Columbia', 'area': 61.048}}, '44': {'Largest County': {'name': 'Providence', 'area': 409.502}, 'Smallest County': {'name': 'Bristol', 'area': 24.164}}}\n"
     ]
    }
   ],
   "source": [
    "def get_min_max_name(features):\n",
    "    min_max_name = {}\n",
    "    for feature in features:\n",
    "        properties = feature['properties']\n",
    "        state_no = properties['STATE']\n",
    "        county = properties['NAME']\n",
    "        census_area = properties['CENSUSAREA']\n",
    "\n",
    "        county = {\n",
    "        \"name\": county,\n",
    "        \"area\": census_area\n",
    "        }\n",
    "\n",
    "        if state_no in min_max_name:\n",
    "            state = min_max_name[state_no]\n",
    "\n",
    "            largest_county_area = state['Largest County']['area']\n",
    "            if county_area > largest_county_area:\n",
    "                state['Largest County'] = county\n",
    "\n",
    "            smallest_county_area = state['Smallest County']['area']\n",
    "            if county_area < smallest_county_area:\n",
    "                state['Smallest County'] = county\n",
    "        else:\n",
    "            state = {\n",
    "            \"Largest County\": county,\n",
    "            \"Smallest County\": county\n",
    "            }\n",
    "\n",
    "        min_max_name[state_no] = state\n",
    "\n",
    "    return min_max_name\n",
    "\n",
    "min_max_name = get_min_max_name(features)\n",
    "print(min_max_name)\n"
   ]
  },
  {
   "cell_type": "markdown",
   "id": "9b898d2b",
   "metadata": {},
   "source": [
    "# Total and Average Area of Counties"
   ]
  },
  {
   "cell_type": "code",
   "execution_count": 216,
   "id": "941720e0",
   "metadata": {},
   "outputs": [
    {
     "name": "stdout",
     "output_type": "stream",
     "text": [
      "{'02': {'Total County Area': 34239.88, 'Average County Area': 1180.6855172413793, 'County Count': 29}, '04': {'Total County Area': 6165.69, 'Average County Area': 411.046, 'County Count': 15}, '05': {'Total County Area': 554.283, 'Average County Area': 7.39044, 'County Count': 75}, '08': {'Total County Area': 1117.251, 'Average County Area': 17.457046875, 'County Count': 64}, '09': {'Total County Area': 410.214, 'Average County Area': 51.27675, 'County Count': 8}, '12': {'Total County Area': 758.459, 'Average County Area': 11.320283582089552, 'County Count': 67}, '13': {'Total County Area': 257.844, 'Average County Area': 1.6216603773584906, 'County Count': 159}, '06': {'Total County Area': 1150.731, 'Average County Area': 19.840189655172413, 'County Count': 58}, '01': {'Total County Area': 594.436, 'Average County Area': 8.872179104477613, 'County Count': 67}, '17': {'Total County Area': 177.528, 'Average County Area': 1.740470588235294, 'County Count': 102}, '18': {'Total County Area': 339.028, 'Average County Area': 3.6850869565217392, 'County Count': 92}, '19': {'Total County Area': 569.271, 'Average County Area': 5.750212121212121, 'County Count': 99}, '15': {'Total County Area': 11.991, 'Average County Area': 2.3982, 'County Count': 5}, '16': {'Total County Area': 776.617, 'Average County Area': 17.65038636363636, 'County Count': 44}, '20': {'Total County Area': 151.6, 'Average County Area': 1.4438095238095237, 'County Count': 105}, '21': {'Total County Area': 405.283, 'Average County Area': 3.3773583333333335, 'County Count': 120}, '22': {'Total County Area': 761.847, 'Average County Area': 11.903859375, 'County Count': 64}, '26': {'Total County Area': 568.464, 'Average County Area': 6.848963855421688, 'County Count': 83}, '27': {'Total County Area': 408.301, 'Average County Area': 4.6931149425287355, 'County Count': 87}, '28': {'Total County Area': 400.038, 'Average County Area': 4.878512195121951, 'County Count': 82}, '23': {'Total County Area': 6671.33, 'Average County Area': 416.958125, 'County Count': 16}, '24': {'Total County Area': 424.158, 'Average County Area': 17.67325, 'County Count': 24}, '25': {'Total County Area': 926.825, 'Average County Area': 66.20178571428572, 'County Count': 14}, '30': {'Total County Area': 1869.821, 'Average County Area': 33.38966071428571, 'County Count': 56}, '31': {'Total County Area': 563.272, 'Average County Area': 6.056688172043011, 'County Count': 93}, '32': {'Total County Area': 7891.431, 'Average County Area': 464.20182352941174, 'County Count': 17}, '33': {'Total County Area': 1794.685, 'Average County Area': 179.4685, 'County Count': 10}, '34': {'Total County Area': 233.009, 'Average County Area': 11.095666666666666, 'County Count': 21}, '35': {'Total County Area': 1160.828, 'Average County Area': 35.17660606060606, 'County Count': 33}, '29': {'Total County Area': 567.324, 'Average County Area': 4.9332521739130435, 'County Count': 115}, '37': {'Total County Area': 631.52, 'Average County Area': 6.3152, 'County Count': 100}, '38': {'Total County Area': 1491.554, 'Average County Area': 28.142528301886795, 'County Count': 53}, '39': {'Total County Area': 402.496, 'Average County Area': 4.573818181818182, 'County Count': 88}, '40': {'Total County Area': 975.517, 'Average County Area': 12.66905194805195, 'County Count': 77}, '36': {'Total County Area': 691.582, 'Average County Area': 11.154548387096774, 'County Count': 62}, '45': {'Total County Area': 785.12, 'Average County Area': 17.067826086956522, 'County Count': 46}, '46': {'Total County Area': 708.425, 'Average County Area': 10.73371212121212, 'County Count': 66}, '47': {'Total County Area': 473.635, 'Average County Area': 4.985631578947368, 'County Count': 95}, '41': {'Total County Area': 2979.086, 'Average County Area': 82.75238888888889, 'County Count': 36}, '42': {'Total County Area': 434.712, 'Average County Area': 6.488238805970149, 'County Count': 67}, '48': {'Total County Area': 900.218, 'Average County Area': 3.5441653543307083, 'County Count': 254}, '49': {'Total County Area': 298.778, 'Average County Area': 10.302689655172415, 'County Count': 29}, '53': {'Total County Area': 394.941, 'Average County Area': 10.126692307692307, 'County Count': 39}, '54': {'Total County Area': 341.059, 'Average County Area': 6.201072727272728, 'County Count': 55}, '55': {'Total County Area': 645.646, 'Average County Area': 8.967305555555555, 'County Count': 72}, '56': {'Total County Area': 4802.709, 'Average County Area': 208.81343478260868, 'County Count': 23}, '72': {'Total County Area': 30.085, 'Average County Area': 0.3857051282051282, 'County Count': 78}, '50': {'Total County Area': 674.98, 'Average County Area': 48.212857142857146, 'County Count': 14}, '51': {'Total County Area': 720.698, 'Average County Area': 5.3783432835820895, 'County Count': 134}, '10': {'Total County Area': 586.179, 'Average County Area': 195.393, 'County Count': 3}, '11': {'Total County Area': 61.048, 'Average County Area': 61.048, 'County Count': 1}, '44': {'Total County Area': 24.164, 'Average County Area': 4.832800000000001, 'County Count': 5}}\n"
     ]
    }
   ],
   "source": [
    "def get_totalavg(features):\n",
    "    totalavg = {}\n",
    "    for feature in features:\n",
    "        properties = feature[\"properties\"]\n",
    "        state_no  = properties['STATE']\n",
    "        census_area = properties['CENSUSAREA']\n",
    "\n",
    "        if state_no in totalavg:\n",
    "            state = totalavg[state_no ]\n",
    "            state['Average County Area'] = state['Total County Area'] + census_area\n",
    "            state['County Count'] = state['County Count'] + 1\n",
    "            state['Average County Area'] = state['Total County Area'] / state['County Count']\n",
    "        else:\n",
    "            state = {\n",
    "            \"Total County Area\": census_area,\n",
    "            \"Average County Area\": census_area,\n",
    "            \"County Count\": 1\n",
    "            }\n",
    "        totalavg[state_no ] = state\n",
    "    return totalavg\n",
    "\n",
    "totalavg = get_totalavg(features)\n",
    "print(totalavg)"
   ]
  },
  {
   "cell_type": "code",
   "execution_count": null,
   "id": "092ffcb0",
   "metadata": {},
   "outputs": [],
   "source": []
  }
 ],
 "metadata": {
  "kernelspec": {
   "display_name": "Python 3 (ipykernel)",
   "language": "python",
   "name": "python3"
  },
  "language_info": {
   "codemirror_mode": {
    "name": "ipython",
    "version": 3
   },
   "file_extension": ".py",
   "mimetype": "text/x-python",
   "name": "python",
   "nbconvert_exporter": "python",
   "pygments_lexer": "ipython3",
   "version": "3.8.13"
  }
 },
 "nbformat": 4,
 "nbformat_minor": 5
}
