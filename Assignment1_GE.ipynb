{
 "cells": [
  {
   "cell_type": "markdown",
   "id": "d92e62d6",
   "metadata": {},
   "source": [
    "# GTECH731-Assignment 1 \n",
    "## Griztko Erickson"
   ]
  },
  {
   "cell_type": "code",
   "execution_count": 2,
   "id": "0ce6ef9b",
   "metadata": {},
   "outputs": [
    {
     "name": "stdout",
     "output_type": "stream",
     "text": [
      "3.8.13\n"
     ]
    }
   ],
   "source": [
    "import platform\n",
    "print(platform.python_version())"
   ]
  },
  {
   "cell_type": "code",
   "execution_count": 3,
   "id": "c6d81d6a",
   "metadata": {},
   "outputs": [
    {
     "name": "stdout",
     "output_type": "stream",
     "text": [
      "[46, 3, 124, 19, 189, 133, 122, 42, 128, 196, 196, 60, 54, 70, 22, 8, 52, 50, 149, 19, 172, 126, 41, 130, 191, 25, 146, 86, 118, 3, 130, 34, 152, 90, 160, 35, 35, 177, 163, 117, 198, 55, 109, 4, 43, 116, 117, 76, 77, 68, 55, 105, 95, 86, 86, 8, 113, 136, 68, 80, 48, 174, 35, 33, 198, 139, 87, 176, 80, 200, 191, 177, 16, 2, 194, 62, 115, 108, 76]\n"
     ]
    }
   ],
   "source": [
    "import random\n",
    "random.seed(1009)\n",
    "random_list = []\n",
    "for i in range(1, 80):\n",
    "    random_list.append(random.randint(0, 200))\n",
    "    \n",
    "print(random_list)"
   ]
  },
  {
   "cell_type": "code",
   "execution_count": 4,
   "id": "ffb1c38b",
   "metadata": {},
   "outputs": [
    {
     "name": "stdout",
     "output_type": "stream",
     "text": [
      "96.44303797468355\n"
     ]
    }
   ],
   "source": [
    "lsum=0\n",
    "for i in random_list:\n",
    "    lsum += i\n",
    "    mean = lsum / len(random_list)\n",
    "print(mean) "
   ]
  },
  {
   "cell_type": "code",
   "execution_count": 29,
   "id": "1ee4ab37",
   "metadata": {},
   "outputs": [
    {
     "name": "stdout",
     "output_type": "stream",
     "text": [
      "3551.3268419344377\n"
     ]
    }
   ],
   "source": [
    "rndm_var = sum(((i-rndm_mean)**2)for i in random_list)/(len(random_list)-1)\n",
    "print(rndm_var)"
   ]
  }
 ],
 "metadata": {
  "kernelspec": {
   "display_name": "Python 3 (ipykernel)",
   "language": "python",
   "name": "python3"
  },
  "language_info": {
   "codemirror_mode": {
    "name": "ipython",
    "version": 3
   },
   "file_extension": ".py",
   "mimetype": "text/x-python",
   "name": "python",
   "nbconvert_exporter": "python",
   "pygments_lexer": "ipython3",
   "version": "3.8.13"
  }
 },
 "nbformat": 4,
 "nbformat_minor": 5
}
