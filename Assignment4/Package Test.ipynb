{
 "cells": [
  {
   "cell_type": "markdown",
   "id": "003b3652",
   "metadata": {},
   "source": [
    "## Package Test"
   ]
  },
  {
   "cell_type": "code",
   "execution_count": 14,
   "id": "b144de67",
   "metadata": {},
   "outputs": [],
   "source": [
    "from Geom import Circle, Triangle, Square\n",
    "from random import seed"
   ]
  },
  {
   "cell_type": "code",
   "execution_count": 17,
   "id": "fdf8e221",
   "metadata": {},
   "outputs": [
    {
     "name": "stdout",
     "output_type": "stream",
     "text": [
      "[<Geom.Circle.Circle object at 0x0000024190D631F0>, <Geom.Circle.Circle object at 0x0000024190D63640>]\n",
      "My name is  Morpheus and my color is  EMERALD\n",
      "My name is  Trinity and my color is  OLIVE\n",
      "['Name: Morpheus, Color: EMERALD, Area: 12.566370614359172', 'Name: Trinity, Color: OLIVE, Area: 28.274333882308138']\n"
     ]
    }
   ],
   "source": [
    "circle_list = [Circle(i) for i in range(2,4)]\n",
    "print(circle_list)\n",
    "for x in circle_list:\n",
    "    x.print_name()\n",
    "print([x.makeString() for x in circle_list])"
   ]
  },
  {
   "cell_type": "code",
   "execution_count": null,
   "id": "f55a27d7",
   "metadata": {},
   "outputs": [],
   "source": []
  }
 ],
 "metadata": {
  "kernelspec": {
   "display_name": "Python 3 (ipykernel)",
   "language": "python",
   "name": "python3"
  },
  "language_info": {
   "codemirror_mode": {
    "name": "ipython",
    "version": 3
   },
   "file_extension": ".py",
   "mimetype": "text/x-python",
   "name": "python",
   "nbconvert_exporter": "python",
   "pygments_lexer": "ipython3",
   "version": "3.8.13"
  }
 },
 "nbformat": 4,
 "nbformat_minor": 5
}
