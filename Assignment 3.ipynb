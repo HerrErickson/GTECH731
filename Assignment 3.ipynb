{
 "cells": [
  {
   "cell_type": "markdown",
   "id": "94873bfb",
   "metadata": {},
   "source": [
    "## Assignment 3 - GTECH731\n",
    "\n",
    "# Griztko Erickson\n",
    "Updated Version of assignment 2 with code explanations and small changes"
   ]
  },
  {
   "cell_type": "markdown",
   "id": "a6f5c7b8",
   "metadata": {},
   "source": [
    "# Reading in Data"
   ]
  },
  {
   "cell_type": "code",
   "execution_count": 7,
   "id": "7bde2ac4-d6da-4a36-b605-d1ab8e490efa",
   "metadata": {},
   "outputs": [
    {
     "name": "stdout",
     "output_type": "stream",
     "text": [
      "Number of Counties in US: 3221\n"
     ]
    }
   ],
   "source": [
    "import io\n",
    "import time\n",
    "import requests, json \n",
    "url = \"https://eric.clst.org/assets/wiki/uploads/Stuff/gz_2010_us_050_00_5m.json\"\n",
    "\n",
    "with requests.get(url) as response: #Obtains data from website\n",
    "    data = response.json()\n",
    "    print('Number of Counties in US: ' + str(len(data['features']))) #Print text plus the number of features\n",
    "                                                                     #(individual county and its information) \n",
    "                                                                     #in url/data set as string\n",
    "        "
   ]
  },
  {
   "cell_type": "markdown",
   "id": "b7352f56",
   "metadata": {},
   "source": [
    "# List of County names "
   ]
  },
  {
   "cell_type": "code",
   "execution_count": 8,
   "id": "b7d77b71-cbb7-4a69-9796-4ad01b9aa43c",
   "metadata": {},
   "outputs": [
    {
     "name": "stdout",
     "output_type": "stream",
     "text": [
      "['Tazewell', 'Kankakee', 'Thurston', 'Potter', 'Montezuma', 'Tishomingo', 'Wirt', 'Hennepin', 'Glenn', 'Murray', 'Middlesex', 'Walton', 'Moultrie', 'Boulder', 'Bennington', 'Alfalfa', 'Allen', 'Ross', 'Faribault', 'Williamson', 'New Haven', 'Oconto', 'A�asco', 'Coffey', 'Marion', 'Mecklenburg', 'Black Hawk', 'Broomfield', 'Canadian', 'Finney', 'Benewah', 'East Carroll', 'Hillsdale', 'Lewis and Clark', 'Collier', 'Charlotte', 'Petroleum', 'Madison', 'Ward', 'Wilbarger', 'Doniphan', 'Sequoyah', 'Clallam', 'Sandusky', 'Saginaw', 'Crittenden', 'Somerset', 'Clatsop', 'Powell', 'Etowah', 'Castro', 'Bleckley', 'Citrus', 'Sutton', 'Meeker', 'Mower', 'Guayama', 'Kandiyohi', 'Stewart', 'Harford', 'Rockdale', 'Hidalgo', 'Allegany', 'Bonneville', 'Maries', 'Nome', 'Houston', 'Talbot', 'Ponce', 'Gove', 'Falls Church', 'Suwannee', 'Clear Creek', 'Chester', 'Hayes', 'Presque Isle', 'Eureka', 'Walworth', 'Oldham', 'Houghton', 'Hillsborough', 'Naguabo', 'Eddy', 'Lavaca', 'Harris', 'Barnes', 'Can�vanas', 'Shawnee', 'Scott', 'Rankin', 'Okanogan', 'Lancaster', 'Harvey', 'Atoka', 'Skagit', 'Bronx', 'Watonwan', 'Ulster', 'Prowers', 'Dolores', 'Christian', 'Avoyelles', 'Schuylkill', 'Louisa', 'Nelson', 'Manatee', 'Prince William', 'Alamosa', 'Sutter', 'Sebastian', 'Millard', 'Ness', 'Caddo', 'Monona', 'Ionia', 'Edwards', 'Whiteside', 'Wilkin', 'Lafayette', 'Schleicher', 'Utuado', 'Todd', 'Travis', 'Allegan', 'Heard', 'Brown', 'Payette', 'San Luis Obispo', 'Evans', 'Wise', 'Plymouth', 'Island', 'McCormick', 'Wicomico', 'Cross', 'Kodiak Island', 'Hempstead', 'Strafford', 'Amador', 'Salem', 'McMullen', 'Grand Isle', 'Owsley', 'Gogebic', 'Niagara', 'Rush', 'Newton', 'Dickey', 'Pe�uelas', 'Cabell', 'Orocovis', 'Gilliam', 'Chatham', 'Chippewa', 'Ferry', 'Sedgwick', 'Wright', 'Lane', 'Sumner', 'Edmunds', 'Mason', 'Washtenaw', 'Slope', 'Tattnall', 'Calcasieu', 'Pima', 'Angelina', 'Waseca', 'Adair', 'Cedar', 'Victoria', 'Lucas', 'Isabella', 'Oglethorpe', 'Obion', 'Monterey', 'West Baton Rouge', 'Mille Lacs', 'Churchill', 'Monongalia', 'Kings', 'Newaygo', 'Cuming', 'Quitman', 'Grand Traverse', 'Edmonson', 'Brooke', 'Kossuth', 'Carlton', 'Dorado', 'Lassen', 'Beaufort', 'Garvin', 'Trinity', 'West Feliciana', 'Keweenaw', 'Vermillion', 'Larue', 'Harney', 'Clarke', 'George', 'Tipton', 'Pitkin', 'Aleutians West', 'Wibaux', 'Chickasaw', \"Prince George's\", 'Pinal', 'Fairfax', 'Muskingum', 'St. Charles', 'Passaic', 'Forest', 'Webb', 'Swift', 'Esmeralda', 'Overton', 'Cherry', 'Treutlen', 'Williamsburg', 'Taos', 'Sandoval', 'Nash', 'Plumas', 'Fremont', 'Vinton', 'Wabasha', 'McPherson', 'Kittson', 'Westmoreland', 'Bon Homme', 'Mesa', 'Sioux', 'Blue Earth', 'Raleigh', 'Aroostook', 'Goodhue', 'Bayam�n', 'Power', 'Brooks', 'Cidra', 'Falls', 'Chautauqua', 'Wilkes', 'Chambers', 'Tensas', 'Arapahoe', 'Hot Springs', 'Taney', 'Grundy', 'Garland', 'Oakland', 'Muscatine', 'Athens', 'Hood River', 'Hickory', 'Charlevoix', 'Hamlin', 'Lajas', 'Champaign', 'Toa Baja', 'Lafourche', 'Sabana Grande', 'Teller', 'Prince Edward', 'Fentress', 'Culpeper', 'Ritchie', 'Boyd', 'Manat�', 'York', 'Yuba', 'Swisher', 'Wetzel', 'Marshall', 'Wabash', 'Gregory', 'Honolulu', 'Addison', 'San Juan', 'Ida', 'Gratiot', 'Pembina', 'McCook', 'St. Johns', 'Whitfield', 'Escambia', 'Winn', 'Keokuk', 'St. Mary', 'Bowie', 'Jayuya', 'Rio Blanco', 'East Baton Rouge', 'Sacramento', 'Creek', 'Washoe', 'Washita', 'Carter', 'Stephenson', 'Mono', 'Vilas', 'Villalba', 'Anderson', 'Concho', 'Cape Girardeau', 'Taliaferro', 'Pepin', 'Pontotoc', 'Grand Forks', 'Clayton', 'Broward', 'Mahoning', 'Columbia', 'Yellowstone', 'Indian River', 'Bristol Bay', 'Orangeburg', 'Lenoir', 'Tuscola', 'Cole', 'Renville', 'Wake', 'Pulaski', 'St. Croix', 'Spokane', 'Sherman', 'Yankton', 'Carver', 'Magoffin', 'Kanabec', 'Poinsett', 'Lonoke', 'Sauk', 'Burnett', 'Moca', 'Barranquitas', 'Butte', 'Nacogdoches', 'Rhea', 'Audrain', 'Piute', 'Le Flore', 'LaMoure', 'Emanuel', 'Yazoo', 'Marlboro', 'Randall', 'Robertson', 'Lares', 'Benson', 'Valley', 'Moore', 'Oneida', 'Hutchinson', 'Alpena', 'Onondaga', 'McLeod', 'Brazos', 'Cloud', 'Ouray', 'Tarrant', 'Walsh', 'Chittenden', 'Hodgeman', 'East Feliciana', 'Dickson', 'Kenedy', 'Beltrami', 'McCulloch', 'Denton', 'Rutland', 'Davie', 'Cooke', 'Drew', 'Bland', 'Poweshiek', 'Santa Rosa', 'Juneau', 'Stoddard', 'Waushara', 'Kootenai', 'Clinch', 'Winkler', 'Assumption', 'Divide', 'Plaquemines', 'Billings', 'Nobles', 'Yolo', 'LaPorte', 'Amelia', 'Andrews', 'Sargent', 'Nemaha', 'Platte', 'Camp', 'Upson', 'Cocke', 'Summers', 'Caroline', 'Jo Daviess', 'Lowndes', 'Tyrrell', 'Pasco', 'Graham', 'Knox', 'Morrill', 'Tooele', 'Huerfano', 'Jackson', 'Chicot', 'Glasscock', 'Labette', 'Thomas', 'Calaveras', 'Hettinger', 'Kingsbury', 'Ascension', 'San Patricio', 'Shawano', 'Uinta', 'Aleutians East', 'Bowman', 'Buffalo', 'Rockingham', 'Gallia', 'Barrow', 'Pocahontas', 'Kane', 'Simpson', 'Beauregard', 'Seminole', 'Cochise', 'Lake', 'Roane', 'Steuben', 'Laramie', 'Accomack', 'Cascade', 'Clark', 'Apache', 'Cabo Rojo', 'Brule', 'Roscommon', 'Campbell', 'Powhatan', 'Jeff Davis', 'Butler', 'Medina', 'Hinds', 'Deschutes', 'Gibson', 'Luquillo', 'Winston', 'Northumberland', 'Bradford', 'Aguadilla', 'Oscoda', 'Hertford', 'Androscoggin', 'Baca', 'Liberty', 'Ware', 'Pushmataha', 'Bourbon', 'Appomattox', 'Las Mar�as', 'Salinas', 'Bucks', 'Hudson', 'Cleburne', 'Comer�o', 'Stokes', 'Robeson', 'Dixie', 'Greenville', 'King and Queen', 'Kanawha', 'Kimball', 'Rock Island', 'Cobb', 'San Diego', 'Sullivan', 'Mora', 'Onslow', 'Goliad', 'Rapides', 'Johnson', 'Contra Costa', 'Wahkiakum', 'Tippah', 'Wyandot', 'Hampshire', 'Osage', 'Kalkaska', 'Boundary', 'Tate', 'Habersham', 'Huntington', 'Menard', 'Archuleta', 'Taylor', 'Corson', 'Ashe', 'Humacao', 'Pender', 'Effingham', 'Hockley', 'Norfolk', 'Kalamazoo', 'Giles', 'Colorado', 'McCone', 'Terrebonne', 'Owyhee', 'Shoshone', 'Rolette', 'Muscogee', 'Willacy', 'Bandera', 'St. Martin', 'Kenton', 'Hanover', 'Roberts', 'Caledonia', 'Rice', 'Isabela', 'DeKalb', 'Cayuga', 'Matanuska-Susitna', 'McCreary', 'Ozark', 'Klickitat', 'Lake and Peninsula', 'Leavenworth', 'St. John the Baptist', 'Merced', 'Donley', 'Seward', 'Zapata', 'McCurtain', 'Harrison', 'Screven', 'Latimer', 'Wadena', 'Neshoba', 'Guadalupe', 'Wakulla', 'Oxford', 'El Dorado', 'Guayanilla', 'Kerr', 'Macon', 'Tallahatchie', 'Georgetown', 'Ellsworth', 'McLean', 'Knott', 'Fallon', 'Hendricks', 'Mineral', 'LaSalle', 'Cibola', 'Dare', 'Sangamon', 'Muhlenberg', 'McKean', 'Cerro Gordo', 'Conecuh', 'Texas', 'Colquitt', 'McHenry', 'Yukon-Koyukuk', 'Coahoma', 'Briscoe', 'Gray', 'Clarion', 'Stonewall', 'Richmond', 'Milwaukee', 'Kosciusko', 'Nueces', 'Waller', 'Sibley', 'Otoe', 'Hunterdon', 'Pointe Coupee', 'Cleveland', 'Orleans', 'Cheshire', 'Dewey', 'Cowlitz', 'Watauga', 'Grafton', 'Aransas', 'Limestone', 'Barry', 'Attala', 'Southampton', 'Lincoln', 'San Francisco', 'Price', 'Tunica', 'Davis', 'Boise', 'Saratoga', 'Dubuque', 'Cheatham', 'Boone', 'Bledsoe', 'Collingsworth', 'R�o Grande', 'Hubbard', 'Brantley', 'Traill', 'Perquimans', 'Tuolumne', 'Yancey', 'Oliver', 'Yakutat', 'Dauphin', 'Roanoke', 'Beadle', 'Hawaii', 'Colleton', 'Major', 'Sharkey', 'Santa Clara', 'Cecil', 'Rogers', 'Bolivar', 'Randolph', 'Wilson', 'Foster', 'Coleman', 'Juncos', 'Sully', 'Trousdale', 'Sanilac', 'Barbour', 'Dinwiddie', 'Oklahoma', 'Harlan', 'Ontario', 'Walker', 'Waynesboro', 'McDonald', 'Hampden', 'Ralls', 'Anoka', 'Ashley', 'Flagler', 'Newberry', 'Dillon', 'Sweet Grass', 'Burt', 'Richland', 'Whatcom', 'Tallapoosa', 'Gilpin', 'Las Piedras', 'Glacier', 'Dawson', 'Kewaunee', 'Chilton', 'Hickman', 'Larimer', 'Ziebach', 'Pacific', 'Marquette', 'Lemhi', 'Sweetwater', 'Phelps', 'Wabaunsee', 'Milam', 'Dyer', 'San Miguel', 'Alexandria', 'Pickens', 'Lewis', 'Ashland', 'Fajardo', 'Solano', 'Hardy', 'Maunabo', 'Kinney', 'Wheeler', 'Montrose', 'Perry', 'Judith Basin', 'Horry', 'San Augustine', 'Wallace', 'Box Butte', 'Mayes', 'Winnebago', 'Kearney', 'Sanborn', 'Lehigh', 'Putnam', 'Tuscaloosa', 'Blanco', 'Bulloch', 'Morrow', 'Dawes', 'Preble', 'Mifflin', 'St. James', 'Wolfe', 'Keya Paha', 'Fayette', 'Hanson', 'Evangeline', 'Utah', 'Cameron', 'Dent', 'Alachua', 'Okmulgee', 'Ada', 'Runnels', 'Ray', 'Turner', 'Concordia', 'Valdez-Cordova', 'Carolina', 'Wade Hampton', 'Ontonagon', 'Antrim', 'Osceola', 'Waupaca', 'Wasatch', 'Daviess', 'Neosho', 'Catawba', 'Barton', 'Box Elder', 'Dorchester', 'Windham', 'Chariton', 'Bertie', 'Leflore', 'Page', 'Madera', 'Emmet', 'Story', 'Ripley', 'Patrick', 'Vega Alta', 'Glynn', 'Twiggs', 'Nottoway', 'Grays Harbor', 'Rooks', 'Ouachita', 'Bennett', 'Herkimer', 'DuPage', 'Placer', 'Grayson', 'Itasca', 'Spalding', 'Kennebec', 'Erath', 'Preston', 'Woods', 'Sampson', 'Collin', \"St. Mary's\", 'Crowley', 'Volusia', 'Racine', 'Galax', 'McIntosh', 'Fisher', 'Bureau', 'Wapello', 'De Baca', 'Gooding', 'Chesapeake', 'Rowan', 'Ottawa', 'Pickaway', 'Torrance', 'Josephine', 'Spotsylvania', 'Yell', 'Pettis', 'Crawford', 'St. Tammany', 'Clarendon', 'New York', 'Clearwater', 'Beckham', 'Greensville', 'Colfax', 'Panola', 'Hughes', 'Orange', 'DeWitt', 'Jefferson', 'Gates', 'Cache', 'Bullock', 'Alpine', 'Charlton', 'Paulding', 'Frio', 'Hansford', 'Stephens', 'Emporia', 'Stark', 'Wasco', 'Uvalde', 'Gilmer', 'Luce', 'Broome', 'Upshur', 'Lackawanna', 'Missaukee', 'Ramsey', 'Santa Barbara', 'Kearny', 'Arlington', 'Rock', 'Riverside', 'Sabine', 'Elkhart', 'Richardson', 'Los Alamos', 'Sterling', 'Atlantic', 'Martin', 'Stafford', 'Natchitoches', 'Rockwall', 'Humphreys', 'Henrico', 'Cape May', 'Bartow', 'Chenango', 'Navarro', 'Bradley', 'Clermont', 'Pershing', 'Tyler', 'Iberville', 'Riley', 'Hartley', 'Oceana', 'Muskegon', 'Darlington', 'Irwin', 'Morovis', 'Buena Vista', 'Navajo', 'Belknap', 'Ciales', 'Washburn', 'Genesee', 'Whitman', 'Guilford', 'Naranjito', 'Lamoille', 'Fresno', 'Merrick', 'Gadsden', 'Rappahannock', 'Cheboygan', 'Peoria', 'Acadia', 'Lanier', 'Pamlico', 'Durham', 'Chelan', 'Rains', 'Aibonito', 'Kaufman', 'Red Willow', 'Crisp', 'Tripp', 'Freestone', 'Galveston', 'Sierra', 'Marin', 'Barceloneta', 'Webster', 'Waukesha', 'Le Sueur', 'Newport', 'Jim Wells', 'Banner', 'Pittsylvania', 'Gunnison', 'Crow Wing', 'Noxubee', 'Carson City', 'Bollinger', 'Sevier', 'Scioto', 'Antelope', 'Curry', 'Portsmouth', 'Stillwater', 'Licking', 'Philadelphia', 'Hooker', 'Karnes', 'Hill', 'Haywood', 'Garrard', 'Bedford', 'Bryan', 'Jessamine', 'Metcalfe', 'Independence', 'Pope', 'Otsego', 'Cottle', 'Big Horn', 'Cassia', 'Halifax', 'Trego', 'Cayey', 'Claiborne', 'Conway', 'Cheyenne', 'Pike', 'Calumet', 'Love', 'Emmons', 'Ocean', 'Long', 'Venango', 'Cowley', 'Wrangell', 'Van Buren', 'Roseau', 'Leon', 'Hall', 'San Bernardino', 'Swain', 'Goochland', 'Davidson', 'Erie', 'Saunders', 'Teton', 'Van Zandt', 'Stutsman', 'Laurens', 'Porter', 'Letcher', 'Cook', 'Shasta', 'Duplin', 'Echols', 'Faulkner', 'Manitowoc', 'Aguada', 'Routt', 'Lycoming', 'Harding', 'Mackinac', 'Person', 'Iberia', 'Gosper', 'Fauquier', 'Inyo', 'Kimble', 'Chaves', 'Augusta', 'Albemarle', 'Golden Valley', 'Charleston', 'Pickett', 'Elliott', 'Callaway', 'Whitley', 'Guernsey', 'Bladen', 'Tioga', 'Gladwin', 'Kauai', 'Virginia Beach', 'Reno', 'Skagway', 'Morris', 'Massac', 'Schenectady', 'Treasure', 'Berkshire', 'Queens', 'Wallowa', 'Geneva', 'Posey', 'Schley', 'Gwinnett', 'White', 'Albany', 'Tangipahoa', 'Bingham', 'Cumberland', 'Lunenburg', 'Darke', 'Frontier', 'Rinc�n', 'Jerauld', 'Hernando', 'Vance', 'Smyth', 'Elmore', 'Dodge', 'Pitt', 'Charles', 'Manassas Park', 'Garden', 'Anson', 'Shannon', 'Minidoka', 'Tillman', 'Candler', 'Troup', 'Alleghany', 'Valencia', 'Piatt', 'Sanders', 'Aguas Buenas', 'Coamo', 'Bear Lake', 'Fulton', 'Cochran', 'Issaquena', 'Davison', 'Jim Hogg', 'Wells', 'Polk', 'Ringgold', 'Red River', 'Palm Beach', 'Bailey', 'Stanley', 'Phillips', 'Wagoner', 'Hendry', 'Silver Bow', 'Santa Fe', 'Burleson', 'Harnett', 'Hunt', 'Buncombe', 'Pecos', 'Nye', 'Gentry', 'Saline', 'Hancock', 'Furnas', 'Winchester', 'Cata�o', 'Linn', 'Leake', 'Westchester', 'Gurabo', 'San Germ�n', 'Colusa', 'Camuy', 'District of Columbia', 'Shackelford', 'Hale', 'Napa', 'Guaynabo', 'Edgar', 'Telfair', 'Lee', 'Barnstable', 'Modoc', 'Edgecombe', 'Pratt', 'Carson', 'Ben Hill', 'Maury', 'Arkansas', 'Wilcox', 'Pine', 'New Castle', 'Gaston', 'Beaverhead', 'Morehouse', 'San Saba', 'Arenac', 'Desha', 'Cass', 'Scotland', 'Reeves', 'Denali', 'Covington', 'Iowa', 'Jefferson Davis', 'Kittitas', 'LaGrange', 'Pipestone', 'Doddridge', 'Mississippi', 'Yabucoa', 'Cavalier', 'Crockett', 'McNairy', 'Tehama', 'Schoharie', 'Meagher', 'Litchfield', 'Granville', 'Trempealeau', 'Calhoun', 'Val Verde', 'Cambria', 'Little River', 'Callahan', 'Iron', 'Irion', 'Allendale', 'Bannock', 'Wythe', 'Mayag�ez', 'Childress', 'Ford', 'La Paz', 'Lac qui Parle', 'Yuma', 'Hampton', 'Barnwell', 'New Hanover', 'Wyoming', 'Bristol', 'Freeborn', 'Duval', 'Allamakee', 'Oconee', 'McMinn', 'Fairfield', 'Nevada', 'Geauga', 'Throckmorton', \"O'Brien\", 'Dubois', 'Columbiana', 'Nicholas', 'Pemiscot', 'Parke', 'Niobrara', 'Kidder', 'Salt Lake', 'Worcester', 'Kenai Peninsula', 'Pierce', 'Goshen', 'Northwest Arctic', 'Menominee', 'Botetourt', 'Hood', 'St. Lawrence', 'Live Oak', 'Sitka', 'Lampasas', 'Kern', 'Atkinson', 'Russell', 'Okeechobee', 'Presidio', 'Grainger', 'Kay', 'Hartford', 'Burnet', 'Cattaraugus', 'Caswell', 'Converse', 'Jennings', 'Floyd', 'Dundy', \"Queen Anne's\", 'Kingfisher', 'Lake of the Woods', 'Buchanan', 'Weston', 'New Kent', 'Grand', 'Caribou', 'James City', 'Tuscarawas', 'Pondera', 'Huron', 'Sublette', 'Breathitt', 'Deaf Smith', 'Staunton', 'Baylor', 'Clearfield', 'Berrien', 'Arthur', 'Malheur', 'Reagan', 'Scurry', 'Natrona', 'Ogemaw', 'Charles Mix', 'Loving', 'Lea', 'Motley', 'Payne', 'Arecibo', 'Arroyo', 'Adjuntas', 'La Plata', 'Kent', 'Jay', 'Borden', 'Aitkin', 'Tompkins', 'Bell', 'Miller', 'Lebanon', 'Decatur', 'Ste. Genevieve', 'Grady', 'Miami', 'Baxter', 'Dale', 'Faulk', 'Griggs', 'Amherst', 'Bond', 'Yavapai', 'Noble', 'Sharp', 'Bamberg', 'Olmsted', 'Rockland', 'Tucker', 'Terrell', 'Pend Oreille', 'Tulare', 'Norton', 'Pearl River', 'Carbon', 'Ransom', 'McCracken', 'Foard', 'Green', 'Nantucket', 'Carteret', 'King William', 'Asotin', 'Fergus', 'Menifee', 'Custer', 'Hardeman', 'Kendall', 'Woodson', 'Coosa', 'Andrew', 'Macomb', 'Baldwin', 'La Crosse', 'Aiken', 'Granite', 'Levy', 'Dutchess', 'Dougherty', 'Keith', 'Hamilton', 'Muskogee', 'Grant', 'Audubon', 'Forrest', 'Summit', 'Deer Lodge', 'Buckingham', 'Coos', 'Meriwether', 'Ochiltree', 'Alcorn', 'Woodbury', 'Mitchell', 'Miami-Dade', 'La Salle', 'Thayer', 'Coal', 'Sumter', 'Lynn', 'Bonner', 'Imperial', 'Do�a Ana', 'Tift', 'Musselshell', 'Marinette', 'Blount', 'San Lorenzo', 'Yates', 'Kalawao', 'Bergen', 'Schoolcraft', 'Belmont', 'Matagorda', 'Parker', 'Kenosha', 'Florence', 'Reynolds', 'San Benito', 'Yoakum', 'Berkeley', 'Schuyler', 'St. Joseph', 'Bremer', 'Banks', 'Dearborn', 'Chouteau', 'Hinsdale', 'Camas', 'Coffee', 'Rusk', 'Atchison', 'Elbert', 'Marengo', 'Morrison', 'Auglaize', 'Gordon', 'Saluda', 'Denver', 'Currituck', 'Calloway', 'Meigs', 'Izard', 'Armstrong', 'Mahnomen', 'Socorro', 'Culberson', 'Hocking', 'Cortland', 'Mountrail', 'Early', 'Maricopa', 'New London', 'Des Moines', 'Titus', 'Susquehanna', 'Bienville', 'Gillespie', 'Warren', 'Santa Isabel', 'Gu�nica', 'Cabarrus', 'Hyde', 'Santa Cruz', 'Harmon', 'Vernon', 'Cannon', 'Storey', 'Dunn', 'Lumpkin', 'Jenkins', 'Humboldt', 'Hart', 'Gulf', 'Blair', 'Nicollet', 'Llano', 'Glascock', 'Meade', 'Gloucester', 'Burleigh', 'Austin', 'Grenada', 'Searcy', 'King', 'Scotts Bluff', 'Colbert', 'Conejos', 'Barron', 'McKenzie', 'Ketchikan Gateway', 'Stanton', 'Lipscomb', 'Del Norte', 'Owen', 'Brazoria', 'Calvert', 'Stearns', 'Dickinson', 'Bee', 'Toa Alta', 'Lyon', 'Trigg', 'Comal', 'Lyman', 'Coweta', 'Talladega', 'Loudon', 'Hemphill', 'Guthrie', 'Hamblen', 'Worth', 'Branch', 'Chowan', 'Montgomery', 'Cimarron', 'Macoupin', 'Culebra', 'Centre', 'Breckinridge', 'Chattooga', 'Pennington', 'Craig', 'Bath', 'Tippecanoe', 'Caldwell', 'Cullman', 'Palo Pinto', 'Transylvania', 'Alexander', 'Yalobusha', 'Fort Bend', 'Mobile', 'Towner', 'Okfuskee', 'Otero', 'Crook', 'Pottawattamie', 'Kleberg', 'Jones', 'Codington', 'Burke', 'Beaver', 'Archer', 'Dunklin', 'Toombs', 'Cotton', 'Siskiyou', 'Bent', 'Fall River', 'Perkins', 'Vieques', 'Skamania', 'Tama', 'Costilla', 'Prince George', 'Sanpete', 'Ashtabula', 'Stevens', 'Waldo', 'Bexar', 'Frederick', 'Midland', 'Maui', 'Southeast Fairbanks', 'Isanti', 'Hawkins', 'Anne Arundel', 'Pueblo', 'Bosque', 'Mecosta', 'Lorain', 'Blaine', 'Corozal', 'Sagadahoc', 'Berks', 'Weld', 'Hot Spring', 'Washington', 'Spartanburg', 'Autauga', 'Sonoma', 'Sunflower', 'Craighead', 'Ohio', 'Dakota', 'Dickens', 'Avery', 'Pendleton', 'Winneshiek', 'Oktibbeha', 'Kitsap', 'Martinsville', 'Copiah', 'Juniata', 'Winona', 'Gila', 'Rio Arriba', 'Johnston', 'Las Animas', 'Charlottesville', 'Catoosa', 'Sussex', 'Iroquois', 'Juab', 'Bayfield', 'Essex', 'Clackamas', 'Koochiching', 'Los Angeles', 'Ballard', 'Bracken', 'Ozaukee', 'Nez Perce', 'Wharton', 'Woodward', 'Geary', 'Ventura', 'Brewster', 'Ellis', 'Pawnee', 'Suffolk', 'Bethel', 'Montcalm', 'Zavala', 'Wilkinson', 'St. Bernard', 'DeSoto', 'Kingman', 'Henry', 'Mercer', 'Gallatin', 'Bottineau', 'Walla Walla', 'Danville', 'Rockcastle', 'Barber', 'Montour', 'Elko', 'Glades', 'Eastland', 'Piscataquis', 'Ravalli', 'Carroll', 'Pleasants', 'Brevard', 'Montmorency', 'Young', 'Catron', 'Fredericksburg', 'Dixon', 'Emery', 'Will', 'Loudoun', 'Dallam', 'Wexford', 'St. Francois', 'Tolland', 'Coshocton', 'Hitchcock', 'Steele', 'McDowell', 'Leelanau', 'Montague', 'Bullitt', 'Starke', 'Terry', 'Douglas', 'Dickenson', 'Atascosa', 'Northampton', 'Kit Carson', 'Fairbanks North Star', 'Estill', 'Becker', 'Garrett', 'Norman', 'St. Helena', 'Forsyth', 'Defiance', 'Lenawee', 'Greer', 'Mingo', 'Delaware', 'Klamath', 'Monroe', 'Harper', 'Ogle', 'Palo Alto', 'Warrick', 'Benzie', 'Lawrence', 'Hopkins', 'Camden', 'Sheridan', 'Lamb', 'Toole', 'Stone', 'Real', 'Saguache', 'Alger', 'Haskell', 'Sawyer', 'Jerome', 'St. Lucie', 'San Jacinto', 'Kershaw', 'Oregon', 'Outagamie', 'Otter Tail', 'Vega Baja', 'Mohave', 'Pittsburg', 'Missoula', 'Burlington', 'Wood', 'Idaho', 'Elk', 'Eagle', 'St. Louis', 'Graves', 'De Soto', 'Luna', 'Mills', 'Prentiss', 'Mariposa', 'Coke', 'Isle of Wight', 'Greeley', 'Blackford', 'Woodford', 'Huntingdon', 'Patillas', 'Holt', 'Prairie', 'Refugio', 'Bibb', 'Spink', 'Sequatchie', 'Okaloosa', 'Peach', 'North Slope', 'Uintah', 'St. Landry', 'Iosco', 'Hays', 'Powder River', 'Leslie', 'Loup', 'Hopewell', 'Quay', 'Morgan', 'Hardin', 'Cuyahoga', 'Moody', 'Fluvanna', 'Washakie', 'Spencer', 'Yadkin', 'Prince of Wales-Hyder', 'Vigo', 'McClain', 'Monmouth', 'Somervell', 'Marathon', 'Lapeer', 'Allegheny', 'Baltimore', 'Alameda', 'Franklin', 'Stanislaus', 'Garfield', 'Nodaway', 'St. Clair', 'Newport News', 'Brunswick', 'Bay', 'Rich', 'Greenup', 'Osborne', 'Braxton', 'Ingham', 'Bastrop', 'Cottonwood', 'Jewell', 'Williams', 'Rio Grande', 'Cherokee', 'Latah', 'King George', 'Henderson', 'Nolan', 'Chattahoochee', 'Highland', 'Gem', 'Chase', 'Dooly', 'Day', 'Manistee', 'Gasconade', 'Hardee', 'Yauco', 'Daggett', 'Pottawatomie', 'Dimmit', 'McDonough', 'Wichita', 'Weakley', 'Umatilla', 'Lynchburg', 'Mathews', 'Penobscot', 'Laurel', 'Maverick', 'Bossier', 'Sheboygan', 'Haralson', 'Coryell', 'Flathead', 'Colonial Heights', 'Lexington', 'Greenwood', 'Wyandotte', 'Lubbock', 'Anchorage', 'Windsor', 'Parmer', 'Nassau', 'Smith', 'Barren', 'San Sebasti�n', 'Van Wert', 'Traverse', 'Lauderdale', 'Trimble', 'Deuel', 'Carlisle', 'Benton', 'Baraga', 'Vermilion', 'Itawamba', 'Casey', 'Laclede', 'Union', 'Fond du Lac', 'Rensselaer', 'Sac', 'Unicoi', 'Boyle', 'Fannin', 'Mahaska', 'Clay', 'Woodruff', 'Iredell', 'Mendocino', 'Minnehaha', 'Dillingham', 'Seneca', 'Moffat', 'Big Stone', 'San Mateo', 'Trujillo Alto', 'Park', 'San Joaquin', 'Jack', 'Kiowa', 'Coles', 'Logan', 'Delta', 'Livingston', 'Pasquotank', 'Haakon', 'Dade', 'Craven', 'Fountain', 'Jasper', 'Gilchrist', 'Daniels', 'Clare', 'Clinton', 'Jersey', 'Moniteau', 'Hormigueros', 'Tom Green', 'Poquoson', 'Dallas', 'Crane', 'Rockbridge', 'Manassas', 'Shelby', 'Switzerland', 'Edgefield', 'Luzerne', 'Charles City', 'Baker', 'Appling', 'Garza', 'Hoonah-Angoon', 'Bartholomew', 'Republic', 'Towns', 'Ceiba', 'Yakima', 'Langlade', 'Red Lake', 'Appanoose', 'Tulsa', 'Alcona', 'Cooper', 'Petersburg', 'Nowata', 'Harrisonburg', 'Bates', 'Canyon', 'Rawlins', 'Chisago', 'Snohomish', 'St. Francis', 'Eau Claire', 'Bernalillo', 'Aurora', 'Ector', 'Rabun', 'Juana D�az', 'Chesterfield', 'Gage', 'Hudspeth', 'Twin Falls', 'Grimes', 'Gonzales', 'White Pine', 'Morton', 'Highlands', 'Sherburne', 'Snyder', 'Lo�za', 'Hoke', 'Nance', 'Catahoula', 'New Madrid', 'Sarpy', 'Pinellas', 'Nuckolls', 'Howell', 'Adams', 'Weber', 'Vanderburgh', 'Greene', 'Lander', 'Greenlee', 'Walthall', 'Shiawassee', 'Holmes', 'Oswego', 'Eaton', 'McLennan', 'Chaffee', 'Tillamook', 'De Witt', 'Fillmore', 'Chemung', 'Brookings', 'Yellow Medicine', 'Columbus', 'Providence', 'Shenandoah', 'Roosevelt', 'Upton', 'Dane', 'Green Lake', 'El Paso', 'Gaines', 'Starr', 'Trumbull', 'Miner', 'Howard', 'Duchesne', 'Portage', 'Surry', 'Mellette', 'Haines', 'Dukes', 'Quebradillas', 'Roger Mills', 'Choctaw', 'Coconino', 'Sarasota', 'Caguas', 'Rutherford', 'West Carroll', 'McDuffie', 'Amite', 'Crosby', 'Stanly', 'Maricao', 'Florida', 'Gregg', 'Merrimack', 'Rosebud', 'Hatillo', 'Wheatland', 'Lamar', 'Door', 'McKinley', 'Hand', 'Radford', 'Yamhill', 'Alamance', 'Greenbrier', 'Redwood', 'Bacon', 'Butts', 'Abbeville', 'Kemper', 'Comanche', 'Multnomah', 'Fleming', 'Wayne', 'Indiana', 'Crenshaw', 'Broadwater']\n"
     ]
    }
   ],
   "source": [
    "features = data['features'] #sets features as a variable   \n",
    "Unique_Names = set() #creates a set\n",
    "for feature in features: #For every object in feature list, collect the information down the information hierachy  \n",
    "    Properties = feature['properties'] #Properties is under features\n",
    "    Name = Properties[\"NAME\"] #County name is under feature(county) properties\n",
    "    Unique_Names.add(Name) #Adds each county name into the set\n",
    "\n",
    "Unique_Names = list(Unique_Names) #makes the set of unique names a list\n",
    "print(Unique_Names)"
   ]
  },
  {
   "cell_type": "markdown",
   "id": "55c275b4",
   "metadata": {},
   "source": [
    "# Top 3 Most Common Counties "
   ]
  },
  {
   "cell_type": "code",
   "execution_count": 9,
   "id": "5b12eab4",
   "metadata": {},
   "outputs": [
    {
     "name": "stdout",
     "output_type": "stream",
     "text": [
      "{'Washington': 32, 'Franklin': 27, 'Jefferson': 27}\n"
     ]
    }
   ],
   "source": [
    "cntyDict = {} #Creates a dictionary\n",
    "for f in features:\n",
    "    dict_name = f['properties']['NAME'] #Creates a variable out of properties and county name\n",
    "    if cntyDict.get(dict_name) is None: #Loop to add aforementioned variable into dictionary\n",
    "        cntyDict.update({dict_name:1})\n",
    "    else:\n",
    "        pass\n",
    "\n",
    "\n",
    "Unique_Names=[] #Create index\n",
    "for f in features: #Loop to append county names into index \n",
    "    county_name = f['properties']['NAME'] \n",
    "    Unique_Names.append(county_name)\n",
    "\n",
    "\n",
    "for new_name in Unique_Names: #Loop to compile counties with same name from inside the index into the dictionary\n",
    "    if new_name in cntyDict:\n",
    "        cntyDict[new_name] +=1\n",
    "    else:\n",
    "        cntyDict[new_name] = 1\n",
    "\n",
    "\n",
    "sorted_new_list = sorted(cntyDict.items(), key=lambda x:x[1], reverse=True) #Sorts the dictionary into the top three quantities\n",
    "top_new_list = sorted_new_list[0:3]\n",
    "converted_newdict = dict(top_new_list)\n",
    "print(converted_newdict)"
   ]
  },
  {
   "cell_type": "markdown",
   "id": "cb2040e5",
   "metadata": {},
   "source": [
    "# Number of Total Counties in Each State"
   ]
  },
  {
   "cell_type": "code",
   "execution_count": 57,
   "id": "b8c87c92",
   "metadata": {},
   "outputs": [
    {
     "name": "stdout",
     "output_type": "stream",
     "text": [
      "{'02': 29, '04': 15, '05': 75, '08': 64, '09': 8, '12': 67, '13': 159, '06': 58, '01': 67, '17': 102, '18': 92, '19': 99, '15': 5, '16': 44, '20': 105, '21': 120, '22': 64, '26': 83, '27': 87, '28': 82, '23': 16, '24': 24, '25': 14, '30': 56, '31': 93, '32': 17, '33': 10, '34': 21, '35': 33, '29': 115, '37': 100, '38': 53, '39': 88, '40': 77, '36': 62, '45': 46, '46': 66, '47': 95, '41': 36, '42': 67, '48': 254, '49': 29, '53': 39, '54': 55, '55': 72, '56': 23, '72': 78, '50': 14, '51': 134, '10': 3, '11': 1, '44': 5}\n"
     ]
    }
   ],
   "source": [
    "totals = {} #Create dictionary\n",
    "#Loop to pair state and counties (number of features with state under it) into dictionary\n",
    "for feature in features: \n",
    "    Properties = feature['properties']\n",
    "    state_no = Properties['STATE']\n",
    "    totals[state_no] = totals.get(state_no, 0) + 1\n",
    "    \n",
    "print(totals)"
   ]
  },
  {
   "cell_type": "markdown",
   "id": "cd3e8ae0",
   "metadata": {},
   "source": [
    "# Largest and Smallest Counties in Each State by Area"
   ]
  },
  {
   "cell_type": "code",
   "execution_count": 89,
   "id": "0221307c",
   "metadata": {},
   "outputs": [
    {
     "name": "stdout",
     "output_type": "stream",
     "text": [
      "{'02': {'Largest County': {'name': 'Yukon-Koyukuk', 'area': 145504.789}, 'Smallest County': {'name': 'Skagway', 'area': 452.325}}, '04': {'Largest County': {'name': 'Coconino', 'area': 18618.885}, 'Smallest County': {'name': 'Santa Cruz', 'area': 1236.916}}, '05': {'Largest County': {'name': 'Union', 'area': 1039.214}, 'Smallest County': {'name': 'Lafayette', 'area': 528.268}}, '08': {'Largest County': {'name': 'Las Animas', 'area': 4772.672}, 'Smallest County': {'name': 'Broomfield', 'area': 33.034}}, '09': {'Largest County': {'name': 'Litchfield', 'area': 920.56}, 'Smallest County': {'name': 'Middlesex', 'area': 369.301}}, '12': {'Largest County': {'name': 'Collier', 'area': 1998.324}, 'Smallest County': {'name': 'Union', 'area': 243.556}}, '13': {'Largest County': {'name': 'Ware', 'area': 892.461}, 'Smallest County': {'name': 'Clarke', 'area': 119.2}}, '06': {'Largest County': {'name': 'San Bernardino', 'area': 20056.938}, 'Smallest County': {'name': 'San Francisco', 'area': 46.873}}, '01': {'Largest County': {'name': 'Baldwin', 'area': 1589.784}, 'Smallest County': {'name': 'Etowah', 'area': 534.991}}, '17': {'Largest County': {'name': 'McLean', 'area': 1183.378}, 'Smallest County': {'name': 'Putnam', 'area': 160.161}}, '18': {'Largest County': {'name': 'Allen', 'area': 657.308}, 'Smallest County': {'name': 'Ohio', 'area': 86.14}}, '19': {'Largest County': {'name': 'Kossuth', 'area': 972.72}, 'Smallest County': {'name': 'Dickinson', 'area': 380.606}}, '15': {'Largest County': {'name': 'Hawaii', 'area': 4028.417}, 'Smallest County': {'name': 'Kalawao', 'area': 11.991}}, '16': {'Largest County': {'name': 'Idaho', 'area': 8477.352}, 'Smallest County': {'name': 'Payette', 'area': 406.867}}, '20': {'Largest County': {'name': 'Butler', 'area': 1429.863}, 'Smallest County': {'name': 'Wyandotte', 'area': 151.6}}, '21': {'Largest County': {'name': 'Pike', 'area': 786.833}, 'Smallest County': {'name': 'Robertson', 'area': 99.911}}, '22': {'Largest County': {'name': 'Vernon', 'area': 1327.91}, 'Smallest County': {'name': 'Orleans', 'area': 169.423}}, '26': {'Largest County': {'name': 'Marquette', 'area': 1808.401}, 'Smallest County': {'name': 'Benzie', 'area': 319.704}}, '27': {'Largest County': {'name': 'St. Louis', 'area': 6247.401}, 'Smallest County': {'name': 'Ramsey', 'area': 152.212}}, '28': {'Largest County': {'name': 'Yazoo', 'area': 922.947}, 'Smallest County': {'name': 'Alcorn', 'area': 400.038}}, '23': {'Largest County': {'name': 'Aroostook', 'area': 6671.33}, 'Smallest County': {'name': 'Sagadahoc', 'area': 253.695}}, '24': {'Largest County': {'name': 'Frederick', 'area': 660.221}, 'Smallest County': {'name': 'Baltimore', 'area': 80.944}}, '25': {'Largest County': {'name': 'Worcester', 'area': 1510.77}, 'Smallest County': {'name': 'Nantucket', 'area': 44.97}}, '30': {'Largest County': {'name': 'Beaverhead', 'area': 5541.624}, 'Smallest County': {'name': 'Silver Bow', 'area': 718.477}}, '31': {'Largest County': {'name': 'Cherry', 'area': 5960.422}, 'Smallest County': {'name': 'Sarpy', 'area': 238.99}}, '32': {'Largest County': {'name': 'Nye', 'area': 18181.924}, 'Smallest County': {'name': 'Carson City', 'area': 144.662}}, '33': {'Largest County': {'name': 'Coos', 'area': 1794.685}, 'Smallest County': {'name': 'Strafford', 'area': 368.975}}, '34': {'Largest County': {'name': 'Burlington', 'area': 798.576}, 'Smallest County': {'name': 'Hudson', 'area': 46.191}}, '35': {'Largest County': {'name': 'Catron', 'area': 6923.69}, 'Smallest County': {'name': 'Los Alamos', 'area': 109.167}}, '29': {'Largest County': {'name': 'Texas', 'area': 1177.266}, 'Smallest County': {'name': 'St. Louis', 'area': 61.909}}, '37': {'Largest County': {'name': 'Robeson', 'area': 949.221}, 'Smallest County': {'name': 'Chowan', 'area': 172.473}}, '38': {'Largest County': {'name': 'McKenzie', 'area': 2760.323}, 'Smallest County': {'name': 'Eddy', 'area': 630.171}}, '39': {'Largest County': {'name': 'Ashtabula', 'area': 701.931}, 'Smallest County': {'name': 'Lake', 'area': 227.493}}, '40': {'Largest County': {'name': 'Osage', 'area': 2246.358}, 'Smallest County': {'name': 'Marshall', 'area': 371.08}}, '36': {'Largest County': {'name': 'St. Lawrence', 'area': 2680.377}, 'Smallest County': {'name': 'New York', 'area': 22.829}}, '45': {'Largest County': {'name': 'Horry', 'area': 1133.896}, 'Smallest County': {'name': 'McCormick', 'area': 359.13}}, '46': {'Largest County': {'name': 'Meade', 'area': 3470.984}, 'Smallest County': {'name': 'Clay', 'area': 412.185}}, '47': {'Largest County': {'name': 'Shelby', 'area': 763.174}, 'Smallest County': {'name': 'Trousdale', 'area': 114.193}}, '41': {'Largest County': {'name': 'Harney', 'area': 10133.17}, 'Smallest County': {'name': 'Multnomah', 'area': 431.297}}, '42': {'Largest County': {'name': 'Lycoming', 'area': 1228.594}, 'Smallest County': {'name': 'Montour', 'area': 130.242}}, '48': {'Largest County': {'name': 'Brewster', 'area': 6183.733}, 'Smallest County': {'name': 'Rockwall', 'area': 127.036}}, '49': {'Largest County': {'name': 'San Juan', 'area': 7819.988}, 'Smallest County': {'name': 'Davis', 'area': 298.778}}, '53': {'Largest County': {'name': 'Okanogan', 'area': 5267.978}, 'Smallest County': {'name': 'San Juan', 'area': 173.915}}, '54': {'Largest County': {'name': 'Randolph', 'area': 1039.681}, 'Smallest County': {'name': 'Hancock', 'area': 82.609}}, '55': {'Largest County': {'name': 'Marathon', 'area': 1544.983}, 'Smallest County': {'name': 'Pepin', 'area': 231.983}}, '56': {'Largest County': {'name': 'Sweetwater', 'area': 10426.649}, 'Smallest County': {'name': 'Hot Springs', 'area': 2004.092}}, '72': {'Largest County': {'name': 'Arecibo', 'area': 125.947}, 'Smallest County': {'name': 'Cata�o', 'area': 4.845}}, '50': {'Largest County': {'name': 'Windsor', 'area': 969.337}, 'Smallest County': {'name': 'Grand Isle', 'area': 81.811}}, '51': {'Largest County': {'name': 'Pittsylvania', 'area': 968.941}, 'Smallest County': {'name': 'Falls Church', 'area': 1.999}}, '10': {'Largest County': {'name': 'Sussex', 'area': 936.079}, 'Smallest County': {'name': 'New Castle', 'area': 426.286}}, '11': {'Largest County': {'name': 'District of Columbia', 'area': 61.048}, 'Smallest County': {'name': 'District of Columbia', 'area': 61.048}}, '44': {'Largest County': {'name': 'Providence', 'area': 409.502}, 'Smallest County': {'name': 'Bristol', 'area': 24.164}}}\n"
     ]
    }
   ],
   "source": [
    "def get_min_max_name(features): \n",
    "    min_max_name = {}\n",
    "#Loops to create all needed variables\n",
    "    for feature in features: \n",
    "        properties = feature['properties']\n",
    "        state_no = properties['STATE']\n",
    "        county = properties['NAME']\n",
    "        census_area = properties['CENSUSAREA']\n",
    "        \n",
    "#Setting up dictionary format and text we want to pair with dictionary variables\n",
    "        county = {       \n",
    "        \"name\": county,   \n",
    "        \"area\": census_area\n",
    "        }\n",
    "\n",
    "        if state_no in min_max_name:  \n",
    "            state = min_max_name[state_no]\n",
    "            \n",
    "#Conditions to creating county of largest area\n",
    "            largest_county_area = state['Largest County']['area'] \n",
    "            if census_area > largest_county_area:\n",
    "                state['Largest County'] = county \n",
    "                \n",
    "#conditions to creatng county of smallest area\n",
    "            smallest_county_area = state['Smallest County']['area'] \n",
    "            if census_area < smallest_county_area:\n",
    "                state['Smallest County'] = county\n",
    "        else: \n",
    "            state = { \n",
    "            \"Largest County\": county,\n",
    "            \"Smallest County\": county\n",
    "            }\n",
    "#The loops makes a dictionary within a dictionary; a dictionary of each state having a dictionary of largest and smallest counties\n",
    "        min_max_name[state_no] = state  \n",
    "    return min_max_name\n",
    "\n",
    "min_max_name = get_min_max_name(features)\n",
    "print(min_max_name)\n"
   ]
  },
  {
   "cell_type": "markdown",
   "id": "9b898d2b",
   "metadata": {},
   "source": [
    "# Total and Average Area of Counties"
   ]
  },
  {
   "cell_type": "code",
   "execution_count": 68,
   "id": "941720e0",
   "metadata": {},
   "outputs": [
    {
     "name": "stdout",
     "output_type": "stream",
     "text": [
      "{'02': {'Total County Area': 34239.88, 'Average County Area': 1180.6855172413793, 'County Count': 29}, '04': {'Total County Area': 6165.69, 'Average County Area': 411.046, 'County Count': 15}, '05': {'Total County Area': 554.283, 'Average County Area': 7.39044, 'County Count': 75}, '08': {'Total County Area': 1117.251, 'Average County Area': 17.457046875, 'County Count': 64}, '09': {'Total County Area': 410.214, 'Average County Area': 51.27675, 'County Count': 8}, '12': {'Total County Area': 758.459, 'Average County Area': 11.320283582089552, 'County Count': 67}, '13': {'Total County Area': 257.844, 'Average County Area': 1.6216603773584906, 'County Count': 159}, '06': {'Total County Area': 1150.731, 'Average County Area': 19.840189655172413, 'County Count': 58}, '01': {'Total County Area': 594.436, 'Average County Area': 8.872179104477613, 'County Count': 67}, '17': {'Total County Area': 177.528, 'Average County Area': 1.740470588235294, 'County Count': 102}, '18': {'Total County Area': 339.028, 'Average County Area': 3.6850869565217392, 'County Count': 92}, '19': {'Total County Area': 569.271, 'Average County Area': 5.750212121212121, 'County Count': 99}, '15': {'Total County Area': 11.991, 'Average County Area': 2.3982, 'County Count': 5}, '16': {'Total County Area': 776.617, 'Average County Area': 17.65038636363636, 'County Count': 44}, '20': {'Total County Area': 151.6, 'Average County Area': 1.4438095238095237, 'County Count': 105}, '21': {'Total County Area': 405.283, 'Average County Area': 3.3773583333333335, 'County Count': 120}, '22': {'Total County Area': 761.847, 'Average County Area': 11.903859375, 'County Count': 64}, '26': {'Total County Area': 568.464, 'Average County Area': 6.848963855421688, 'County Count': 83}, '27': {'Total County Area': 408.301, 'Average County Area': 4.6931149425287355, 'County Count': 87}, '28': {'Total County Area': 400.038, 'Average County Area': 4.878512195121951, 'County Count': 82}, '23': {'Total County Area': 6671.33, 'Average County Area': 416.958125, 'County Count': 16}, '24': {'Total County Area': 424.158, 'Average County Area': 17.67325, 'County Count': 24}, '25': {'Total County Area': 926.825, 'Average County Area': 66.20178571428572, 'County Count': 14}, '30': {'Total County Area': 1869.821, 'Average County Area': 33.38966071428571, 'County Count': 56}, '31': {'Total County Area': 563.272, 'Average County Area': 6.056688172043011, 'County Count': 93}, '32': {'Total County Area': 7891.431, 'Average County Area': 464.20182352941174, 'County Count': 17}, '33': {'Total County Area': 1794.685, 'Average County Area': 179.4685, 'County Count': 10}, '34': {'Total County Area': 233.009, 'Average County Area': 11.095666666666666, 'County Count': 21}, '35': {'Total County Area': 1160.828, 'Average County Area': 35.17660606060606, 'County Count': 33}, '29': {'Total County Area': 567.324, 'Average County Area': 4.9332521739130435, 'County Count': 115}, '37': {'Total County Area': 631.52, 'Average County Area': 6.3152, 'County Count': 100}, '38': {'Total County Area': 1491.554, 'Average County Area': 28.142528301886795, 'County Count': 53}, '39': {'Total County Area': 402.496, 'Average County Area': 4.573818181818182, 'County Count': 88}, '40': {'Total County Area': 975.517, 'Average County Area': 12.66905194805195, 'County Count': 77}, '36': {'Total County Area': 691.582, 'Average County Area': 11.154548387096774, 'County Count': 62}, '45': {'Total County Area': 785.12, 'Average County Area': 17.067826086956522, 'County Count': 46}, '46': {'Total County Area': 708.425, 'Average County Area': 10.73371212121212, 'County Count': 66}, '47': {'Total County Area': 473.635, 'Average County Area': 4.985631578947368, 'County Count': 95}, '41': {'Total County Area': 2979.086, 'Average County Area': 82.75238888888889, 'County Count': 36}, '42': {'Total County Area': 434.712, 'Average County Area': 6.488238805970149, 'County Count': 67}, '48': {'Total County Area': 900.218, 'Average County Area': 3.5441653543307083, 'County Count': 254}, '49': {'Total County Area': 298.778, 'Average County Area': 10.302689655172415, 'County Count': 29}, '53': {'Total County Area': 394.941, 'Average County Area': 10.126692307692307, 'County Count': 39}, '54': {'Total County Area': 341.059, 'Average County Area': 6.201072727272728, 'County Count': 55}, '55': {'Total County Area': 645.646, 'Average County Area': 8.967305555555555, 'County Count': 72}, '56': {'Total County Area': 4802.709, 'Average County Area': 208.81343478260868, 'County Count': 23}, '72': {'Total County Area': 30.085, 'Average County Area': 0.3857051282051282, 'County Count': 78}, '50': {'Total County Area': 674.98, 'Average County Area': 48.212857142857146, 'County Count': 14}, '51': {'Total County Area': 720.698, 'Average County Area': 5.3783432835820895, 'County Count': 134}, '10': {'Total County Area': 586.179, 'Average County Area': 195.393, 'County Count': 3}, '11': {'Total County Area': 61.048, 'Average County Area': 61.048, 'County Count': 1}, '44': {'Total County Area': 24.164, 'Average County Area': 4.832800000000001, 'County Count': 5}}\n"
     ]
    }
   ],
   "source": [
    "def get_totalavg(features):\n",
    "    totalavg = {} #dictionary\n",
    "    for feature in features: #variable loop\n",
    "        properties = feature[\"properties\"]\n",
    "        state_no  = properties['STATE']\n",
    "        census_area = properties['CENSUSAREA']\n",
    "#Loop for sum and average math to be put into a dictionary\n",
    "        if state_no in totalavg:\n",
    "            state = totalavg[state_no ]\n",
    "            state['Average County Area'] = state['Total County Area'] + census_area\n",
    "            state['County Count'] = state['County Count'] + 1\n",
    "            state['Average County Area'] = state['Total County Area'] / state['County Count']\n",
    "        else:\n",
    "            state = {\n",
    "            \"Total County Area\": census_area,\n",
    "            \"Average County Area\": census_area,\n",
    "            \"County Count\": 1\n",
    "            }\n",
    "        totalavg[state_no ] = state #Puts dictionary of math operations into the original dictionary\n",
    "    return totalavg\n",
    "\n",
    "totalavg = get_totalavg(features)\n",
    "print(totalavg)"
   ]
  },
  {
   "cell_type": "code",
   "execution_count": null,
   "id": "092ffcb0",
   "metadata": {},
   "outputs": [],
   "source": []
  }
 ],
 "metadata": {
  "kernelspec": {
   "display_name": "Python 3 (ipykernel)",
   "language": "python",
   "name": "python3"
  },
  "language_info": {
   "codemirror_mode": {
    "name": "ipython",
    "version": 3
   },
   "file_extension": ".py",
   "mimetype": "text/x-python",
   "name": "python",
   "nbconvert_exporter": "python",
   "pygments_lexer": "ipython3",
   "version": "3.8.13"
  }
 },
 "nbformat": 4,
 "nbformat_minor": 5
}
